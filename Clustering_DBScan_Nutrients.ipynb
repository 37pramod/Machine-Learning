{
 "cells": [
  {
   "cell_type": "markdown",
   "metadata": {},
   "source": [
    "## Dataset has different food items and amount of nutrients present in that food."
   ]
  },
  {
   "cell_type": "code",
   "execution_count": 213,
   "metadata": {},
   "outputs": [],
   "source": [
    "import numpy as np\n",
    "import pandas as pd\n",
    "import matplotlib.pyplot as plt\n",
    "import seaborn as sns\n",
    "\n",
    "from warnings import filterwarnings\n",
    "filterwarnings('ignore')"
   ]
  },
  {
   "cell_type": "markdown",
   "metadata": {},
   "source": [
    "#### Read the data"
   ]
  },
  {
   "cell_type": "code",
   "execution_count": 214,
   "metadata": {},
   "outputs": [
    {
     "data": {
      "text/html": [
       "<div>\n",
       "<style scoped>\n",
       "    .dataframe tbody tr th:only-of-type {\n",
       "        vertical-align: middle;\n",
       "    }\n",
       "\n",
       "    .dataframe tbody tr th {\n",
       "        vertical-align: top;\n",
       "    }\n",
       "\n",
       "    .dataframe thead th {\n",
       "        text-align: right;\n",
       "    }\n",
       "</style>\n",
       "<table border=\"1\" class=\"dataframe\">\n",
       "  <thead>\n",
       "    <tr style=\"text-align: right;\">\n",
       "      <th></th>\n",
       "      <th>Food</th>\n",
       "      <th>Calories</th>\n",
       "      <th>Fat</th>\n",
       "      <th>Sodium</th>\n",
       "      <th>Potassium</th>\n",
       "      <th>Carbohydrate</th>\n",
       "      <th>Protein</th>\n",
       "      <th>Vitamin A</th>\n",
       "      <th>Vitamin C</th>\n",
       "      <th>Calcium</th>\n",
       "      <th>Iron</th>\n",
       "    </tr>\n",
       "  </thead>\n",
       "  <tbody>\n",
       "    <tr>\n",
       "      <th>0</th>\n",
       "      <td>Honeydew_Melon</td>\n",
       "      <td>36</td>\n",
       "      <td>0.14</td>\n",
       "      <td>18</td>\n",
       "      <td>228</td>\n",
       "      <td>9.00</td>\n",
       "      <td>0.54</td>\n",
       "      <td>34.00</td>\n",
       "      <td>18.0</td>\n",
       "      <td>6.0</td>\n",
       "      <td>0.17</td>\n",
       "    </tr>\n",
       "    <tr>\n",
       "      <th>1</th>\n",
       "      <td>Potato</td>\n",
       "      <td>77</td>\n",
       "      <td>0.09</td>\n",
       "      <td>6</td>\n",
       "      <td>421</td>\n",
       "      <td>17.00</td>\n",
       "      <td>2.00</td>\n",
       "      <td>1.34</td>\n",
       "      <td>19.7</td>\n",
       "      <td>12.0</td>\n",
       "      <td>0.78</td>\n",
       "    </tr>\n",
       "    <tr>\n",
       "      <th>2</th>\n",
       "      <td>Sweet Corn</td>\n",
       "      <td>86</td>\n",
       "      <td>1.18</td>\n",
       "      <td>15</td>\n",
       "      <td>270</td>\n",
       "      <td>19.00</td>\n",
       "      <td>3.20</td>\n",
       "      <td>0.00</td>\n",
       "      <td>6.8</td>\n",
       "      <td>2.0</td>\n",
       "      <td>0.52</td>\n",
       "    </tr>\n",
       "    <tr>\n",
       "      <th>3</th>\n",
       "      <td>Celery</td>\n",
       "      <td>16</td>\n",
       "      <td>0.17</td>\n",
       "      <td>80</td>\n",
       "      <td>260</td>\n",
       "      <td>2.79</td>\n",
       "      <td>0.69</td>\n",
       "      <td>0.00</td>\n",
       "      <td>3.1</td>\n",
       "      <td>40.0</td>\n",
       "      <td>0.20</td>\n",
       "    </tr>\n",
       "    <tr>\n",
       "      <th>4</th>\n",
       "      <td>Pomegranates</td>\n",
       "      <td>83</td>\n",
       "      <td>1.17</td>\n",
       "      <td>3</td>\n",
       "      <td>236</td>\n",
       "      <td>18.70</td>\n",
       "      <td>1.67</td>\n",
       "      <td>0.00</td>\n",
       "      <td>10.2</td>\n",
       "      <td>10.0</td>\n",
       "      <td>0.30</td>\n",
       "    </tr>\n",
       "  </tbody>\n",
       "</table>\n",
       "</div>"
      ],
      "text/plain": [
       "             Food  Calories   Fat  Sodium  Potassium  Carbohydrate  Protein  \\\n",
       "0  Honeydew_Melon        36  0.14      18        228          9.00     0.54   \n",
       "1          Potato        77  0.09       6        421         17.00     2.00   \n",
       "2      Sweet Corn        86  1.18      15        270         19.00     3.20   \n",
       "3          Celery        16  0.17      80        260          2.79     0.69   \n",
       "4    Pomegranates        83  1.17       3        236         18.70     1.67   \n",
       "\n",
       "   Vitamin A  Vitamin C  Calcium  Iron  \n",
       "0      34.00       18.0      6.0  0.17  \n",
       "1       1.34       19.7     12.0  0.78  \n",
       "2       0.00        6.8      2.0  0.52  \n",
       "3       0.00        3.1     40.0  0.20  \n",
       "4       0.00       10.2     10.0  0.30  "
      ]
     },
     "execution_count": 214,
     "metadata": {},
     "output_type": "execute_result"
    }
   ],
   "source": [
    "df = pd.read_csv('Nutrients.csv')\n",
    "df.head()"
   ]
  },
  {
   "cell_type": "markdown",
   "metadata": {},
   "source": [
    "#### Check for missing values"
   ]
  },
  {
   "cell_type": "code",
   "execution_count": 215,
   "metadata": {},
   "outputs": [
    {
     "name": "stdout",
     "output_type": "stream",
     "text": [
      "<class 'pandas.core.frame.DataFrame'>\n",
      "RangeIndex: 61 entries, 0 to 60\n",
      "Data columns (total 11 columns):\n",
      " #   Column        Non-Null Count  Dtype  \n",
      "---  ------        --------------  -----  \n",
      " 0   Food          61 non-null     object \n",
      " 1   Calories      61 non-null     int64  \n",
      " 2   Fat           61 non-null     float64\n",
      " 3   Sodium        61 non-null     int64  \n",
      " 4   Potassium     61 non-null     int64  \n",
      " 5   Carbohydrate  61 non-null     float64\n",
      " 6   Protein       61 non-null     float64\n",
      " 7   Vitamin A     61 non-null     float64\n",
      " 8   Vitamin C     61 non-null     float64\n",
      " 9   Calcium       61 non-null     float64\n",
      " 10  Iron          61 non-null     float64\n",
      "dtypes: float64(7), int64(3), object(1)\n",
      "memory usage: 5.4+ KB\n"
     ]
    }
   ],
   "source": [
    "df.info()"
   ]
  },
  {
   "cell_type": "markdown",
   "metadata": {},
   "source": [
    "We can see that there are no missing values and the data types are also correct for our analysis."
   ]
  },
  {
   "cell_type": "markdown",
   "metadata": {},
   "source": [
    "#### Remove columns which are not required."
   ]
  },
  {
   "cell_type": "markdown",
   "metadata": {},
   "source": [
    "Food column does not help in our analysis, hence we remove this column from further analysis."
   ]
  },
  {
   "cell_type": "code",
   "execution_count": 216,
   "metadata": {},
   "outputs": [],
   "source": [
    "data = df.copy()"
   ]
  },
  {
   "cell_type": "code",
   "execution_count": 217,
   "metadata": {},
   "outputs": [
    {
     "data": {
      "text/html": [
       "<div>\n",
       "<style scoped>\n",
       "    .dataframe tbody tr th:only-of-type {\n",
       "        vertical-align: middle;\n",
       "    }\n",
       "\n",
       "    .dataframe tbody tr th {\n",
       "        vertical-align: top;\n",
       "    }\n",
       "\n",
       "    .dataframe thead th {\n",
       "        text-align: right;\n",
       "    }\n",
       "</style>\n",
       "<table border=\"1\" class=\"dataframe\">\n",
       "  <thead>\n",
       "    <tr style=\"text-align: right;\">\n",
       "      <th></th>\n",
       "      <th>Calories</th>\n",
       "      <th>Fat</th>\n",
       "      <th>Sodium</th>\n",
       "      <th>Potassium</th>\n",
       "      <th>Carbohydrate</th>\n",
       "      <th>Protein</th>\n",
       "      <th>Vitamin A</th>\n",
       "      <th>Vitamin C</th>\n",
       "      <th>Calcium</th>\n",
       "      <th>Iron</th>\n",
       "    </tr>\n",
       "  </thead>\n",
       "  <tbody>\n",
       "    <tr>\n",
       "      <th>0</th>\n",
       "      <td>36</td>\n",
       "      <td>0.14</td>\n",
       "      <td>18</td>\n",
       "      <td>228</td>\n",
       "      <td>9.00</td>\n",
       "      <td>0.54</td>\n",
       "      <td>34.00</td>\n",
       "      <td>18.0</td>\n",
       "      <td>6.0</td>\n",
       "      <td>0.17</td>\n",
       "    </tr>\n",
       "    <tr>\n",
       "      <th>1</th>\n",
       "      <td>77</td>\n",
       "      <td>0.09</td>\n",
       "      <td>6</td>\n",
       "      <td>421</td>\n",
       "      <td>17.00</td>\n",
       "      <td>2.00</td>\n",
       "      <td>1.34</td>\n",
       "      <td>19.7</td>\n",
       "      <td>12.0</td>\n",
       "      <td>0.78</td>\n",
       "    </tr>\n",
       "    <tr>\n",
       "      <th>2</th>\n",
       "      <td>86</td>\n",
       "      <td>1.18</td>\n",
       "      <td>15</td>\n",
       "      <td>270</td>\n",
       "      <td>19.00</td>\n",
       "      <td>3.20</td>\n",
       "      <td>0.00</td>\n",
       "      <td>6.8</td>\n",
       "      <td>2.0</td>\n",
       "      <td>0.52</td>\n",
       "    </tr>\n",
       "    <tr>\n",
       "      <th>3</th>\n",
       "      <td>16</td>\n",
       "      <td>0.17</td>\n",
       "      <td>80</td>\n",
       "      <td>260</td>\n",
       "      <td>2.79</td>\n",
       "      <td>0.69</td>\n",
       "      <td>0.00</td>\n",
       "      <td>3.1</td>\n",
       "      <td>40.0</td>\n",
       "      <td>0.20</td>\n",
       "    </tr>\n",
       "    <tr>\n",
       "      <th>4</th>\n",
       "      <td>83</td>\n",
       "      <td>1.17</td>\n",
       "      <td>3</td>\n",
       "      <td>236</td>\n",
       "      <td>18.70</td>\n",
       "      <td>1.67</td>\n",
       "      <td>0.00</td>\n",
       "      <td>10.2</td>\n",
       "      <td>10.0</td>\n",
       "      <td>0.30</td>\n",
       "    </tr>\n",
       "  </tbody>\n",
       "</table>\n",
       "</div>"
      ],
      "text/plain": [
       "   Calories   Fat  Sodium  Potassium  Carbohydrate  Protein  Vitamin A  \\\n",
       "0        36  0.14      18        228          9.00     0.54      34.00   \n",
       "1        77  0.09       6        421         17.00     2.00       1.34   \n",
       "2        86  1.18      15        270         19.00     3.20       0.00   \n",
       "3        16  0.17      80        260          2.79     0.69       0.00   \n",
       "4        83  1.17       3        236         18.70     1.67       0.00   \n",
       "\n",
       "   Vitamin C  Calcium  Iron  \n",
       "0       18.0      6.0  0.17  \n",
       "1       19.7     12.0  0.78  \n",
       "2        6.8      2.0  0.52  \n",
       "3        3.1     40.0  0.20  \n",
       "4       10.2     10.0  0.30  "
      ]
     },
     "execution_count": 217,
     "metadata": {},
     "output_type": "execute_result"
    }
   ],
   "source": [
    "data.drop('Food',axis=1,inplace=True)\n",
    "data.head()"
   ]
  },
  {
   "cell_type": "markdown",
   "metadata": {},
   "source": [
    "#### Scaling"
   ]
  },
  {
   "cell_type": "code",
   "execution_count": 218,
   "metadata": {},
   "outputs": [],
   "source": [
    "from sklearn.preprocessing import StandardScaler"
   ]
  },
  {
   "cell_type": "code",
   "execution_count": 219,
   "metadata": {},
   "outputs": [
    {
     "data": {
      "text/html": [
       "<div>\n",
       "<style scoped>\n",
       "    .dataframe tbody tr th:only-of-type {\n",
       "        vertical-align: middle;\n",
       "    }\n",
       "\n",
       "    .dataframe tbody tr th {\n",
       "        vertical-align: top;\n",
       "    }\n",
       "\n",
       "    .dataframe thead th {\n",
       "        text-align: right;\n",
       "    }\n",
       "</style>\n",
       "<table border=\"1\" class=\"dataframe\">\n",
       "  <thead>\n",
       "    <tr style=\"text-align: right;\">\n",
       "      <th></th>\n",
       "      <th>Calories</th>\n",
       "      <th>Fat</th>\n",
       "      <th>Sodium</th>\n",
       "      <th>Potassium</th>\n",
       "      <th>Carbohydrate</th>\n",
       "      <th>Protein</th>\n",
       "      <th>Vitamin A</th>\n",
       "      <th>Vitamin C</th>\n",
       "      <th>Calcium</th>\n",
       "      <th>Iron</th>\n",
       "    </tr>\n",
       "  </thead>\n",
       "  <tbody>\n",
       "    <tr>\n",
       "      <th>0</th>\n",
       "      <td>-0.680710</td>\n",
       "      <td>-0.468342</td>\n",
       "      <td>-0.429413</td>\n",
       "      <td>-0.409152</td>\n",
       "      <td>0.362252</td>\n",
       "      <td>-0.724182</td>\n",
       "      <td>0.732688</td>\n",
       "      <td>0.126930</td>\n",
       "      <td>-0.837259</td>\n",
       "      <td>-0.619111</td>\n",
       "    </tr>\n",
       "    <tr>\n",
       "      <th>1</th>\n",
       "      <td>0.362461</td>\n",
       "      <td>-0.498877</td>\n",
       "      <td>-0.564260</td>\n",
       "      <td>1.253583</td>\n",
       "      <td>1.650072</td>\n",
       "      <td>-0.574873</td>\n",
       "      <td>-0.381634</td>\n",
       "      <td>0.204311</td>\n",
       "      <td>-0.558984</td>\n",
       "      <td>0.163400</td>\n",
       "    </tr>\n",
       "    <tr>\n",
       "      <th>2</th>\n",
       "      <td>0.591450</td>\n",
       "      <td>0.166793</td>\n",
       "      <td>-0.463125</td>\n",
       "      <td>-0.047313</td>\n",
       "      <td>1.972026</td>\n",
       "      <td>-0.452153</td>\n",
       "      <td>-0.427353</td>\n",
       "      <td>-0.382878</td>\n",
       "      <td>-1.022776</td>\n",
       "      <td>-0.170129</td>\n",
       "    </tr>\n",
       "    <tr>\n",
       "      <th>3</th>\n",
       "      <td>-1.189574</td>\n",
       "      <td>-0.450021</td>\n",
       "      <td>0.267301</td>\n",
       "      <td>-0.133465</td>\n",
       "      <td>-0.637418</td>\n",
       "      <td>-0.708842</td>\n",
       "      <td>-0.427353</td>\n",
       "      <td>-0.551297</td>\n",
       "      <td>0.739635</td>\n",
       "      <td>-0.580627</td>\n",
       "    </tr>\n",
       "    <tr>\n",
       "      <th>4</th>\n",
       "      <td>0.515121</td>\n",
       "      <td>0.160686</td>\n",
       "      <td>-0.597972</td>\n",
       "      <td>-0.340230</td>\n",
       "      <td>1.923733</td>\n",
       "      <td>-0.608621</td>\n",
       "      <td>-0.427353</td>\n",
       "      <td>-0.228115</td>\n",
       "      <td>-0.651742</td>\n",
       "      <td>-0.452347</td>\n",
       "    </tr>\n",
       "  </tbody>\n",
       "</table>\n",
       "</div>"
      ],
      "text/plain": [
       "   Calories       Fat    Sodium  Potassium  Carbohydrate   Protein  Vitamin A  \\\n",
       "0 -0.680710 -0.468342 -0.429413  -0.409152      0.362252 -0.724182   0.732688   \n",
       "1  0.362461 -0.498877 -0.564260   1.253583      1.650072 -0.574873  -0.381634   \n",
       "2  0.591450  0.166793 -0.463125  -0.047313      1.972026 -0.452153  -0.427353   \n",
       "3 -1.189574 -0.450021  0.267301  -0.133465     -0.637418 -0.708842  -0.427353   \n",
       "4  0.515121  0.160686 -0.597972  -0.340230      1.923733 -0.608621  -0.427353   \n",
       "\n",
       "   Vitamin C   Calcium      Iron  \n",
       "0   0.126930 -0.837259 -0.619111  \n",
       "1   0.204311 -0.558984  0.163400  \n",
       "2  -0.382878 -1.022776 -0.170129  \n",
       "3  -0.551297  0.739635 -0.580627  \n",
       "4  -0.228115 -0.651742 -0.452347  "
      ]
     },
     "execution_count": 219,
     "metadata": {},
     "output_type": "execute_result"
    }
   ],
   "source": [
    "ss = StandardScaler()\n",
    "data_scale = pd.DataFrame(ss.fit_transform(data),columns=data.columns)\n",
    "data_scale.head()"
   ]
  },
  {
   "cell_type": "markdown",
   "metadata": {},
   "source": [
    "#### Build model"
   ]
  },
  {
   "cell_type": "code",
   "execution_count": 220,
   "metadata": {},
   "outputs": [],
   "source": [
    "from sklearn.cluster import DBSCAN"
   ]
  },
  {
   "cell_type": "markdown",
   "metadata": {},
   "source": [
    "The choice of eps and min_samples for DBSCAN mainly depends on domain knowledge. If we do not have domain knowledge we are left with trial and error method for choosing them."
   ]
  },
  {
   "cell_type": "code",
   "execution_count": 221,
   "metadata": {},
   "outputs": [],
   "source": [
    "model = DBSCAN(eps=2.4,min_samples=4)\n",
    "model.fit(data_scale)\n",
    "predict = model.labels_"
   ]
  },
  {
   "cell_type": "code",
   "execution_count": 222,
   "metadata": {},
   "outputs": [
    {
     "data": {
      "text/html": [
       "<div>\n",
       "<style scoped>\n",
       "    .dataframe tbody tr th:only-of-type {\n",
       "        vertical-align: middle;\n",
       "    }\n",
       "\n",
       "    .dataframe tbody tr th {\n",
       "        vertical-align: top;\n",
       "    }\n",
       "\n",
       "    .dataframe thead th {\n",
       "        text-align: right;\n",
       "    }\n",
       "</style>\n",
       "<table border=\"1\" class=\"dataframe\">\n",
       "  <thead>\n",
       "    <tr style=\"text-align: right;\">\n",
       "      <th></th>\n",
       "      <th>Food</th>\n",
       "      <th>Calories</th>\n",
       "      <th>Fat</th>\n",
       "      <th>Sodium</th>\n",
       "      <th>Potassium</th>\n",
       "      <th>Carbohydrate</th>\n",
       "      <th>Protein</th>\n",
       "      <th>Vitamin A</th>\n",
       "      <th>Vitamin C</th>\n",
       "      <th>Calcium</th>\n",
       "      <th>Iron</th>\n",
       "      <th>Clusters</th>\n",
       "    </tr>\n",
       "  </thead>\n",
       "  <tbody>\n",
       "    <tr>\n",
       "      <th>0</th>\n",
       "      <td>Honeydew_Melon</td>\n",
       "      <td>36</td>\n",
       "      <td>0.14</td>\n",
       "      <td>18</td>\n",
       "      <td>228</td>\n",
       "      <td>9.00</td>\n",
       "      <td>0.54</td>\n",
       "      <td>34.00</td>\n",
       "      <td>18.0</td>\n",
       "      <td>6.0</td>\n",
       "      <td>0.17</td>\n",
       "      <td>0</td>\n",
       "    </tr>\n",
       "    <tr>\n",
       "      <th>1</th>\n",
       "      <td>Potato</td>\n",
       "      <td>77</td>\n",
       "      <td>0.09</td>\n",
       "      <td>6</td>\n",
       "      <td>421</td>\n",
       "      <td>17.00</td>\n",
       "      <td>2.00</td>\n",
       "      <td>1.34</td>\n",
       "      <td>19.7</td>\n",
       "      <td>12.0</td>\n",
       "      <td>0.78</td>\n",
       "      <td>0</td>\n",
       "    </tr>\n",
       "    <tr>\n",
       "      <th>2</th>\n",
       "      <td>Sweet Corn</td>\n",
       "      <td>86</td>\n",
       "      <td>1.18</td>\n",
       "      <td>15</td>\n",
       "      <td>270</td>\n",
       "      <td>19.00</td>\n",
       "      <td>3.20</td>\n",
       "      <td>0.00</td>\n",
       "      <td>6.8</td>\n",
       "      <td>2.0</td>\n",
       "      <td>0.52</td>\n",
       "      <td>0</td>\n",
       "    </tr>\n",
       "    <tr>\n",
       "      <th>3</th>\n",
       "      <td>Celery</td>\n",
       "      <td>16</td>\n",
       "      <td>0.17</td>\n",
       "      <td>80</td>\n",
       "      <td>260</td>\n",
       "      <td>2.79</td>\n",
       "      <td>0.69</td>\n",
       "      <td>0.00</td>\n",
       "      <td>3.1</td>\n",
       "      <td>40.0</td>\n",
       "      <td>0.20</td>\n",
       "      <td>0</td>\n",
       "    </tr>\n",
       "    <tr>\n",
       "      <th>4</th>\n",
       "      <td>Pomegranates</td>\n",
       "      <td>83</td>\n",
       "      <td>1.17</td>\n",
       "      <td>3</td>\n",
       "      <td>236</td>\n",
       "      <td>18.70</td>\n",
       "      <td>1.67</td>\n",
       "      <td>0.00</td>\n",
       "      <td>10.2</td>\n",
       "      <td>10.0</td>\n",
       "      <td>0.30</td>\n",
       "      <td>0</td>\n",
       "    </tr>\n",
       "  </tbody>\n",
       "</table>\n",
       "</div>"
      ],
      "text/plain": [
       "             Food  Calories   Fat  Sodium  Potassium  Carbohydrate  Protein  \\\n",
       "0  Honeydew_Melon        36  0.14      18        228          9.00     0.54   \n",
       "1          Potato        77  0.09       6        421         17.00     2.00   \n",
       "2      Sweet Corn        86  1.18      15        270         19.00     3.20   \n",
       "3          Celery        16  0.17      80        260          2.79     0.69   \n",
       "4    Pomegranates        83  1.17       3        236         18.70     1.67   \n",
       "\n",
       "   Vitamin A  Vitamin C  Calcium  Iron  Clusters  \n",
       "0      34.00       18.0      6.0  0.17         0  \n",
       "1       1.34       19.7     12.0  0.78         0  \n",
       "2       0.00        6.8      2.0  0.52         0  \n",
       "3       0.00        3.1     40.0  0.20         0  \n",
       "4       0.00       10.2     10.0  0.30         0  "
      ]
     },
     "execution_count": 222,
     "metadata": {},
     "output_type": "execute_result"
    }
   ],
   "source": [
    "df['Clusters'] = predict\n",
    "df.head()"
   ]
  },
  {
   "cell_type": "code",
   "execution_count": 223,
   "metadata": {},
   "outputs": [],
   "source": [
    "df.drop('Food',axis=1,inplace=True)"
   ]
  },
  {
   "cell_type": "code",
   "execution_count": 224,
   "metadata": {},
   "outputs": [
    {
     "data": {
      "text/plain": [
       " 0    40\n",
       "-1    12\n",
       " 1     9\n",
       "Name: Clusters, dtype: int64"
      ]
     },
     "execution_count": 224,
     "metadata": {},
     "output_type": "execute_result"
    }
   ],
   "source": [
    "df['Clusters'].value_counts()"
   ]
  },
  {
   "cell_type": "markdown",
   "metadata": {},
   "source": [
    "#### Visualization"
   ]
  },
  {
   "cell_type": "code",
   "execution_count": 225,
   "metadata": {},
   "outputs": [
    {
     "data": {
      "image/png": "[encoded data removed]",
      "text/plain": [
       "<Figure size 1080x360 with 1 Axes>"
      ]
     },
     "metadata": {
      "needs_background": "light"
     },
     "output_type": "display_data"
    }
   ],
   "source": [
    "plt.figure(figsize=(15,5))\n",
    "sns.scatterplot(df['Potassium'],df['Protein'])\n",
    "plt.title('Before Clustering')\n",
    "plt.show()"
   ]
  },
  {
   "cell_type": "code",
   "execution_count": 226,
   "metadata": {},
   "outputs": [
    {
     "data": {
      "image/png": "[encoded data removed]",
      "text/plain": [
       "<Figure size 1080x360 with 1 Axes>"
      ]
     },
     "metadata": {
      "needs_background": "light"
     },
     "output_type": "display_data"
    }
   ],
   "source": [
    "plt.figure(figsize=(15,5))\n",
    "sns.scatterplot(df['Potassium'],df['Protein'],hue=df['Clusters'])\n",
    "plt.title('After Clustering')\n",
    "plt.show()"
   ]
  },
  {
   "cell_type": "markdown",
   "metadata": {},
   "source": [
    "#### Inference"
   ]
  },
  {
   "cell_type": "code",
   "execution_count": 227,
   "metadata": {},
   "outputs": [
    {
     "data": {
      "text/html": [
       "<div>\n",
       "<style scoped>\n",
       "    .dataframe tbody tr th:only-of-type {\n",
       "        vertical-align: middle;\n",
       "    }\n",
       "\n",
       "    .dataframe tbody tr th {\n",
       "        vertical-align: top;\n",
       "    }\n",
       "\n",
       "    .dataframe thead th {\n",
       "        text-align: right;\n",
       "    }\n",
       "</style>\n",
       "<table border=\"1\" class=\"dataframe\">\n",
       "  <thead>\n",
       "    <tr style=\"text-align: right;\">\n",
       "      <th></th>\n",
       "      <th>Calories</th>\n",
       "      <th>Fat</th>\n",
       "      <th>Sodium</th>\n",
       "      <th>Potassium</th>\n",
       "      <th>Carbohydrate</th>\n",
       "      <th>Protein</th>\n",
       "      <th>Vitamin A</th>\n",
       "      <th>Vitamin C</th>\n",
       "      <th>Calcium</th>\n",
       "      <th>Iron</th>\n",
       "    </tr>\n",
       "    <tr>\n",
       "      <th>Clusters</th>\n",
       "      <th></th>\n",
       "      <th></th>\n",
       "      <th></th>\n",
       "      <th></th>\n",
       "      <th></th>\n",
       "      <th></th>\n",
       "      <th></th>\n",
       "      <th></th>\n",
       "      <th></th>\n",
       "      <th></th>\n",
       "    </tr>\n",
       "  </thead>\n",
       "  <tbody>\n",
       "    <tr>\n",
       "      <th>-1</th>\n",
       "      <td>106.166667</td>\n",
       "      <td>2.864167</td>\n",
       "      <td>189.583333</td>\n",
       "      <td>354.166667</td>\n",
       "      <td>1.025000</td>\n",
       "      <td>19.249167</td>\n",
       "      <td>27.463417</td>\n",
       "      <td>3.575000</td>\n",
       "      <td>43.083333</td>\n",
       "      <td>1.346667</td>\n",
       "    </tr>\n",
       "    <tr>\n",
       "      <th>0</th>\n",
       "      <td>41.525000</td>\n",
       "      <td>0.243750</td>\n",
       "      <td>12.800000</td>\n",
       "      <td>235.475000</td>\n",
       "      <td>9.903250</td>\n",
       "      <td>1.150250</td>\n",
       "      <td>9.220750</td>\n",
       "      <td>21.982500</td>\n",
       "      <td>19.350000</td>\n",
       "      <td>0.451250</td>\n",
       "    </tr>\n",
       "    <tr>\n",
       "      <th>1</th>\n",
       "      <td>99.222222</td>\n",
       "      <td>1.244444</td>\n",
       "      <td>71.333333</td>\n",
       "      <td>348.444444</td>\n",
       "      <td>0.366667</td>\n",
       "      <td>20.877778</td>\n",
       "      <td>7.295556</td>\n",
       "      <td>0.633333</td>\n",
       "      <td>19.577778</td>\n",
       "      <td>0.622222</td>\n",
       "    </tr>\n",
       "  </tbody>\n",
       "</table>\n",
       "</div>"
      ],
      "text/plain": [
       "            Calories       Fat      Sodium   Potassium  Carbohydrate  \\\n",
       "Clusters                                                               \n",
       "-1        106.166667  2.864167  189.583333  354.166667      1.025000   \n",
       " 0         41.525000  0.243750   12.800000  235.475000      9.903250   \n",
       " 1         99.222222  1.244444   71.333333  348.444444      0.366667   \n",
       "\n",
       "            Protein  Vitamin A  Vitamin C    Calcium      Iron  \n",
       "Clusters                                                        \n",
       "-1        19.249167  27.463417   3.575000  43.083333  1.346667  \n",
       " 0         1.150250   9.220750  21.982500  19.350000  0.451250  \n",
       " 1        20.877778   7.295556   0.633333  19.577778  0.622222  "
      ]
     },
     "execution_count": 227,
     "metadata": {},
     "output_type": "execute_result"
    }
   ],
   "source": [
    "df.groupby('Clusters').agg('mean')"
   ]
  },
  {
   "cell_type": "markdown",
   "metadata": {},
   "source": [
    "Cluster 0: Large amount of Potassium is a part of this cluster and least is Fat.\n",
    "\n",
    "Cluster 1: Large amount of Potassium is a part of this cluster and least is Carbohydrate.\n",
    "\n",
    "Cluster -1: Noise or outliers"
   ]
  },
  {
   "cell_type": "code",
   "execution_count": null,
   "metadata": {},
   "outputs": [],
   "source": []
  }
 ],
 "metadata": {
  "kernelspec": {
   "display_name": "Python 3",
   "language": "python",
   "name": "python3"
  },
  "language_info": {
   "codemirror_mode": {
    "name": "ipython",
    "version": 3
   },
   "file_extension": ".py",
   "mimetype": "text/x-python",
   "name": "python",
   "nbconvert_exporter": "python",
   "pygments_lexer": "ipython3",
   "version": "3.7.6"
  }
 },
 "nbformat": 4,
 "nbformat_minor": 4
}
