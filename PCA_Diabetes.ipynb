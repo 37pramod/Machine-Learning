{
 "cells": [
  {
   "cell_type": "code",
   "execution_count": 274,
   "metadata": {},
   "outputs": [],
   "source": [
    "import numpy as np\n",
    "import pandas as pd\n",
    "import matplotlib.pyplot as plt\n",
    "import seaborn as sns\n",
    "\n",
    "from warnings import filterwarnings\n",
    "filterwarnings('ignore')"
   ]
  },
  {
   "cell_type": "code",
   "execution_count": 275,
   "metadata": {},
   "outputs": [
    {
     "data": {
      "text/html": [
       "<div>\n",
       "<style scoped>\n",
       "    .dataframe tbody tr th:only-of-type {\n",
       "        vertical-align: middle;\n",
       "    }\n",
       "\n",
       "    .dataframe tbody tr th {\n",
       "        vertical-align: top;\n",
       "    }\n",
       "\n",
       "    .dataframe thead th {\n",
       "        text-align: right;\n",
       "    }\n",
       "</style>\n",
       "<table border=\"1\" class=\"dataframe\">\n",
       "  <thead>\n",
       "    <tr style=\"text-align: right;\">\n",
       "      <th></th>\n",
       "      <th>Pregnancies</th>\n",
       "      <th>Glucose</th>\n",
       "      <th>BloodPressure</th>\n",
       "      <th>SkinThickness</th>\n",
       "      <th>Insulin</th>\n",
       "      <th>BMI</th>\n",
       "      <th>DiabetesPedigreeFunction</th>\n",
       "      <th>Age</th>\n",
       "      <th>Gender</th>\n",
       "      <th>Oxygen_level</th>\n",
       "      <th>Potassium_level</th>\n",
       "      <th>Sodium_level</th>\n",
       "      <th>Thyroid</th>\n",
       "      <th>Outcome</th>\n",
       "    </tr>\n",
       "  </thead>\n",
       "  <tbody>\n",
       "    <tr>\n",
       "      <th>0</th>\n",
       "      <td>6</td>\n",
       "      <td>148</td>\n",
       "      <td>72</td>\n",
       "      <td>35</td>\n",
       "      <td>0</td>\n",
       "      <td>33.6</td>\n",
       "      <td>0.627</td>\n",
       "      <td>50</td>\n",
       "      <td>0</td>\n",
       "      <td>81</td>\n",
       "      <td>6.0</td>\n",
       "      <td>153</td>\n",
       "      <td>0</td>\n",
       "      <td>1</td>\n",
       "    </tr>\n",
       "    <tr>\n",
       "      <th>1</th>\n",
       "      <td>1</td>\n",
       "      <td>85</td>\n",
       "      <td>66</td>\n",
       "      <td>29</td>\n",
       "      <td>0</td>\n",
       "      <td>26.6</td>\n",
       "      <td>0.351</td>\n",
       "      <td>31</td>\n",
       "      <td>0</td>\n",
       "      <td>66</td>\n",
       "      <td>3.6</td>\n",
       "      <td>140</td>\n",
       "      <td>1</td>\n",
       "      <td>0</td>\n",
       "    </tr>\n",
       "    <tr>\n",
       "      <th>2</th>\n",
       "      <td>8</td>\n",
       "      <td>183</td>\n",
       "      <td>64</td>\n",
       "      <td>0</td>\n",
       "      <td>0</td>\n",
       "      <td>23.3</td>\n",
       "      <td>0.672</td>\n",
       "      <td>32</td>\n",
       "      <td>0</td>\n",
       "      <td>58</td>\n",
       "      <td>4.1</td>\n",
       "      <td>144</td>\n",
       "      <td>1</td>\n",
       "      <td>1</td>\n",
       "    </tr>\n",
       "    <tr>\n",
       "      <th>3</th>\n",
       "      <td>1</td>\n",
       "      <td>89</td>\n",
       "      <td>66</td>\n",
       "      <td>23</td>\n",
       "      <td>94</td>\n",
       "      <td>28.1</td>\n",
       "      <td>0.167</td>\n",
       "      <td>21</td>\n",
       "      <td>0</td>\n",
       "      <td>76</td>\n",
       "      <td>3.2</td>\n",
       "      <td>131</td>\n",
       "      <td>0</td>\n",
       "      <td>0</td>\n",
       "    </tr>\n",
       "    <tr>\n",
       "      <th>4</th>\n",
       "      <td>0</td>\n",
       "      <td>137</td>\n",
       "      <td>40</td>\n",
       "      <td>35</td>\n",
       "      <td>168</td>\n",
       "      <td>43.1</td>\n",
       "      <td>2.288</td>\n",
       "      <td>33</td>\n",
       "      <td>1</td>\n",
       "      <td>80</td>\n",
       "      <td>5.2</td>\n",
       "      <td>150</td>\n",
       "      <td>0</td>\n",
       "      <td>1</td>\n",
       "    </tr>\n",
       "  </tbody>\n",
       "</table>\n",
       "</div>"
      ],
      "text/plain": [
       "   Pregnancies  Glucose  BloodPressure  SkinThickness  Insulin   BMI  \\\n",
       "0            6      148             72             35        0  33.6   \n",
       "1            1       85             66             29        0  26.6   \n",
       "2            8      183             64              0        0  23.3   \n",
       "3            1       89             66             23       94  28.1   \n",
       "4            0      137             40             35      168  43.1   \n",
       "\n",
       "   DiabetesPedigreeFunction  Age  Gender  Oxygen_level  Potassium_level  \\\n",
       "0                     0.627   50       0            81              6.0   \n",
       "1                     0.351   31       0            66              3.6   \n",
       "2                     0.672   32       0            58              4.1   \n",
       "3                     0.167   21       0            76              3.2   \n",
       "4                     2.288   33       1            80              5.2   \n",
       "\n",
       "   Sodium_level  Thyroid  Outcome  \n",
       "0           153        0        1  \n",
       "1           140        1        0  \n",
       "2           144        1        1  \n",
       "3           131        0        0  \n",
       "4           150        0        1  "
      ]
     },
     "execution_count": 275,
     "metadata": {},
     "output_type": "execute_result"
    }
   ],
   "source": [
    "df = pd.read_csv('diabetes.csv')\n",
    "df.head()"
   ]
  },
  {
   "cell_type": "markdown",
   "metadata": {},
   "source": [
    "#### Check for missing values"
   ]
  },
  {
   "cell_type": "code",
   "execution_count": 276,
   "metadata": {},
   "outputs": [
    {
     "name": "stdout",
     "output_type": "stream",
     "text": [
      "<class 'pandas.core.frame.DataFrame'>\n",
      "RangeIndex: 4599 entries, 0 to 4598\n",
      "Data columns (total 14 columns):\n",
      " #   Column                    Non-Null Count  Dtype  \n",
      "---  ------                    --------------  -----  \n",
      " 0   Pregnancies               4599 non-null   int64  \n",
      " 1   Glucose                   4599 non-null   int64  \n",
      " 2   BloodPressure             4599 non-null   int64  \n",
      " 3   SkinThickness             4599 non-null   int64  \n",
      " 4   Insulin                   4599 non-null   int64  \n",
      " 5   BMI                       4599 non-null   float64\n",
      " 6   DiabetesPedigreeFunction  4599 non-null   float64\n",
      " 7   Age                       4599 non-null   int64  \n",
      " 8   Gender                    4599 non-null   int64  \n",
      " 9   Oxygen_level              4599 non-null   int64  \n",
      " 10  Potassium_level           4599 non-null   float64\n",
      " 11  Sodium_level              4599 non-null   int64  \n",
      " 12  Thyroid                   4599 non-null   int64  \n",
      " 13  Outcome                   4599 non-null   int64  \n",
      "dtypes: float64(3), int64(11)\n",
      "memory usage: 503.1 KB\n"
     ]
    }
   ],
   "source": [
    "df.info()"
   ]
  },
  {
   "cell_type": "markdown",
   "metadata": {},
   "source": [
    "There are no missing values"
   ]
  },
  {
   "cell_type": "markdown",
   "metadata": {},
   "source": [
    "#### Remove categorical columns"
   ]
  },
  {
   "cell_type": "code",
   "execution_count": 277,
   "metadata": {},
   "outputs": [],
   "source": [
    "df_dummy = ['Gender','Thyroid','Outcome']"
   ]
  },
  {
   "cell_type": "markdown",
   "metadata": {},
   "source": [
    "#### Split the data"
   ]
  },
  {
   "cell_type": "code",
   "execution_count": 278,
   "metadata": {},
   "outputs": [],
   "source": [
    "from sklearn.model_selection import train_test_split"
   ]
  },
  {
   "cell_type": "code",
   "execution_count": 279,
   "metadata": {},
   "outputs": [],
   "source": [
    "x = df.drop(df_dummy,axis=1)\n",
    "y = df['Outcome']"
   ]
  },
  {
   "cell_type": "code",
   "execution_count": 280,
   "metadata": {},
   "outputs": [],
   "source": [
    "xtrain,xtest,ytrain,ytest = train_test_split(x,y,test_size=0.3,random_state=1)"
   ]
  },
  {
   "cell_type": "markdown",
   "metadata": {},
   "source": [
    "#### Scale the data"
   ]
  },
  {
   "cell_type": "code",
   "execution_count": 281,
   "metadata": {},
   "outputs": [],
   "source": [
    "from sklearn.preprocessing import StandardScaler"
   ]
  },
  {
   "cell_type": "code",
   "execution_count": 282,
   "metadata": {},
   "outputs": [],
   "source": [
    "ss = StandardScaler()\n",
    "\n",
    "xtrains = pd.DataFrame(ss.fit_transform(xtrain),columns=xtrain.columns)\n",
    "xtests = pd.DataFrame(ss.transform(xtest),columns=xtest.columns)"
   ]
  },
  {
   "cell_type": "markdown",
   "metadata": {},
   "source": [
    "#### Build a Classification Model"
   ]
  },
  {
   "cell_type": "code",
   "execution_count": 283,
   "metadata": {},
   "outputs": [],
   "source": [
    "from sklearn.linear_model import LogisticRegression\n",
    "from sklearn.metrics import classification_report"
   ]
  },
  {
   "cell_type": "code",
   "execution_count": 284,
   "metadata": {},
   "outputs": [
    {
     "data": {
      "text/plain": [
       "LogisticRegression(random_state=1)"
      ]
     },
     "execution_count": 284,
     "metadata": {},
     "output_type": "execute_result"
    }
   ],
   "source": [
    "logr = LogisticRegression(random_state=1)\n",
    "logr.fit(xtrains,ytrain)"
   ]
  },
  {
   "cell_type": "code",
   "execution_count": 285,
   "metadata": {},
   "outputs": [
    {
     "name": "stdout",
     "output_type": "stream",
     "text": [
      "              precision    recall  f1-score   support\n",
      "\n",
      "           0       0.77      0.89      0.83       882\n",
      "           1       0.73      0.54      0.62       498\n",
      "\n",
      "    accuracy                           0.76      1380\n",
      "   macro avg       0.75      0.71      0.73      1380\n",
      "weighted avg       0.76      0.76      0.75      1380\n",
      "\n"
     ]
    }
   ],
   "source": [
    "print(classification_report(ytest,logr.predict(xtests)))"
   ]
  },
  {
   "cell_type": "markdown",
   "metadata": {},
   "source": [
    "#### Manual PCA"
   ]
  },
  {
   "cell_type": "code",
   "execution_count": 286,
   "metadata": {},
   "outputs": [
    {
     "data": {
      "text/html": [
       "<div>\n",
       "<style scoped>\n",
       "    .dataframe tbody tr th:only-of-type {\n",
       "        vertical-align: middle;\n",
       "    }\n",
       "\n",
       "    .dataframe tbody tr th {\n",
       "        vertical-align: top;\n",
       "    }\n",
       "\n",
       "    .dataframe thead th {\n",
       "        text-align: right;\n",
       "    }\n",
       "</style>\n",
       "<table border=\"1\" class=\"dataframe\">\n",
       "  <thead>\n",
       "    <tr style=\"text-align: right;\">\n",
       "      <th></th>\n",
       "      <th>Pregnancies</th>\n",
       "      <th>Glucose</th>\n",
       "      <th>BloodPressure</th>\n",
       "      <th>SkinThickness</th>\n",
       "      <th>Insulin</th>\n",
       "      <th>BMI</th>\n",
       "      <th>DiabetesPedigreeFunction</th>\n",
       "      <th>Age</th>\n",
       "      <th>Oxygen_level</th>\n",
       "      <th>Potassium_level</th>\n",
       "      <th>Sodium_level</th>\n",
       "    </tr>\n",
       "  </thead>\n",
       "  <tbody>\n",
       "    <tr>\n",
       "      <th>Pregnancies</th>\n",
       "      <td>1.000311</td>\n",
       "      <td>0.147636</td>\n",
       "      <td>0.137932</td>\n",
       "      <td>-0.064129</td>\n",
       "      <td>-0.069411</td>\n",
       "      <td>0.032969</td>\n",
       "      <td>-0.026418</td>\n",
       "      <td>0.539275</td>\n",
       "      <td>0.016542</td>\n",
       "      <td>0.009177</td>\n",
       "      <td>0.000829</td>\n",
       "    </tr>\n",
       "    <tr>\n",
       "      <th>Glucose</th>\n",
       "      <td>0.147636</td>\n",
       "      <td>1.000311</td>\n",
       "      <td>0.166241</td>\n",
       "      <td>0.061040</td>\n",
       "      <td>0.339950</td>\n",
       "      <td>0.211159</td>\n",
       "      <td>0.137677</td>\n",
       "      <td>0.269377</td>\n",
       "      <td>-0.003374</td>\n",
       "      <td>0.017097</td>\n",
       "      <td>0.011523</td>\n",
       "    </tr>\n",
       "    <tr>\n",
       "      <th>BloodPressure</th>\n",
       "      <td>0.137932</td>\n",
       "      <td>0.166241</td>\n",
       "      <td>1.000311</td>\n",
       "      <td>0.209656</td>\n",
       "      <td>0.098505</td>\n",
       "      <td>0.303963</td>\n",
       "      <td>0.044755</td>\n",
       "      <td>0.248886</td>\n",
       "      <td>-0.015053</td>\n",
       "      <td>0.009295</td>\n",
       "      <td>0.004561</td>\n",
       "    </tr>\n",
       "    <tr>\n",
       "      <th>SkinThickness</th>\n",
       "      <td>-0.064129</td>\n",
       "      <td>0.061040</td>\n",
       "      <td>0.209656</td>\n",
       "      <td>1.000311</td>\n",
       "      <td>0.451097</td>\n",
       "      <td>0.397636</td>\n",
       "      <td>0.188522</td>\n",
       "      <td>-0.106178</td>\n",
       "      <td>0.004962</td>\n",
       "      <td>-0.002772</td>\n",
       "      <td>-0.016584</td>\n",
       "    </tr>\n",
       "    <tr>\n",
       "      <th>Insulin</th>\n",
       "      <td>-0.069411</td>\n",
       "      <td>0.339950</td>\n",
       "      <td>0.098505</td>\n",
       "      <td>0.451097</td>\n",
       "      <td>1.000311</td>\n",
       "      <td>0.209780</td>\n",
       "      <td>0.213037</td>\n",
       "      <td>-0.056955</td>\n",
       "      <td>0.005859</td>\n",
       "      <td>-0.007561</td>\n",
       "      <td>-0.007775</td>\n",
       "    </tr>\n",
       "    <tr>\n",
       "      <th>BMI</th>\n",
       "      <td>0.032969</td>\n",
       "      <td>0.211159</td>\n",
       "      <td>0.303963</td>\n",
       "      <td>0.397636</td>\n",
       "      <td>0.209780</td>\n",
       "      <td>1.000311</td>\n",
       "      <td>0.135766</td>\n",
       "      <td>0.041971</td>\n",
       "      <td>0.001233</td>\n",
       "      <td>-0.020453</td>\n",
       "      <td>0.008191</td>\n",
       "    </tr>\n",
       "    <tr>\n",
       "      <th>DiabetesPedigreeFunction</th>\n",
       "      <td>-0.026418</td>\n",
       "      <td>0.137677</td>\n",
       "      <td>0.044755</td>\n",
       "      <td>0.188522</td>\n",
       "      <td>0.213037</td>\n",
       "      <td>0.135766</td>\n",
       "      <td>1.000311</td>\n",
       "      <td>0.042038</td>\n",
       "      <td>0.014528</td>\n",
       "      <td>0.000481</td>\n",
       "      <td>0.016243</td>\n",
       "    </tr>\n",
       "    <tr>\n",
       "      <th>Age</th>\n",
       "      <td>0.539275</td>\n",
       "      <td>0.269377</td>\n",
       "      <td>0.248886</td>\n",
       "      <td>-0.106178</td>\n",
       "      <td>-0.056955</td>\n",
       "      <td>0.041971</td>\n",
       "      <td>0.042038</td>\n",
       "      <td>1.000311</td>\n",
       "      <td>-0.011895</td>\n",
       "      <td>0.016192</td>\n",
       "      <td>0.022205</td>\n",
       "    </tr>\n",
       "    <tr>\n",
       "      <th>Oxygen_level</th>\n",
       "      <td>0.016542</td>\n",
       "      <td>-0.003374</td>\n",
       "      <td>-0.015053</td>\n",
       "      <td>0.004962</td>\n",
       "      <td>0.005859</td>\n",
       "      <td>0.001233</td>\n",
       "      <td>0.014528</td>\n",
       "      <td>-0.011895</td>\n",
       "      <td>1.000311</td>\n",
       "      <td>-0.003024</td>\n",
       "      <td>0.000495</td>\n",
       "    </tr>\n",
       "    <tr>\n",
       "      <th>Potassium_level</th>\n",
       "      <td>0.009177</td>\n",
       "      <td>0.017097</td>\n",
       "      <td>0.009295</td>\n",
       "      <td>-0.002772</td>\n",
       "      <td>-0.007561</td>\n",
       "      <td>-0.020453</td>\n",
       "      <td>0.000481</td>\n",
       "      <td>0.016192</td>\n",
       "      <td>-0.003024</td>\n",
       "      <td>1.000311</td>\n",
       "      <td>0.000927</td>\n",
       "    </tr>\n",
       "    <tr>\n",
       "      <th>Sodium_level</th>\n",
       "      <td>0.000829</td>\n",
       "      <td>0.011523</td>\n",
       "      <td>0.004561</td>\n",
       "      <td>-0.016584</td>\n",
       "      <td>-0.007775</td>\n",
       "      <td>0.008191</td>\n",
       "      <td>0.016243</td>\n",
       "      <td>0.022205</td>\n",
       "      <td>0.000495</td>\n",
       "      <td>0.000927</td>\n",
       "      <td>1.000311</td>\n",
       "    </tr>\n",
       "  </tbody>\n",
       "</table>\n",
       "</div>"
      ],
      "text/plain": [
       "                          Pregnancies   Glucose  BloodPressure  SkinThickness  \\\n",
       "Pregnancies                  1.000311  0.147636       0.137932      -0.064129   \n",
       "Glucose                      0.147636  1.000311       0.166241       0.061040   \n",
       "BloodPressure                0.137932  0.166241       1.000311       0.209656   \n",
       "SkinThickness               -0.064129  0.061040       0.209656       1.000311   \n",
       "Insulin                     -0.069411  0.339950       0.098505       0.451097   \n",
       "BMI                          0.032969  0.211159       0.303963       0.397636   \n",
       "DiabetesPedigreeFunction    -0.026418  0.137677       0.044755       0.188522   \n",
       "Age                          0.539275  0.269377       0.248886      -0.106178   \n",
       "Oxygen_level                 0.016542 -0.003374      -0.015053       0.004962   \n",
       "Potassium_level              0.009177  0.017097       0.009295      -0.002772   \n",
       "Sodium_level                 0.000829  0.011523       0.004561      -0.016584   \n",
       "\n",
       "                           Insulin       BMI  DiabetesPedigreeFunction  \\\n",
       "Pregnancies              -0.069411  0.032969                 -0.026418   \n",
       "Glucose                   0.339950  0.211159                  0.137677   \n",
       "BloodPressure             0.098505  0.303963                  0.044755   \n",
       "SkinThickness             0.451097  0.397636                  0.188522   \n",
       "Insulin                   1.000311  0.209780                  0.213037   \n",
       "BMI                       0.209780  1.000311                  0.135766   \n",
       "DiabetesPedigreeFunction  0.213037  0.135766                  1.000311   \n",
       "Age                      -0.056955  0.041971                  0.042038   \n",
       "Oxygen_level              0.005859  0.001233                  0.014528   \n",
       "Potassium_level          -0.007561 -0.020453                  0.000481   \n",
       "Sodium_level             -0.007775  0.008191                  0.016243   \n",
       "\n",
       "                               Age  Oxygen_level  Potassium_level  \\\n",
       "Pregnancies               0.539275      0.016542         0.009177   \n",
       "Glucose                   0.269377     -0.003374         0.017097   \n",
       "BloodPressure             0.248886     -0.015053         0.009295   \n",
       "SkinThickness            -0.106178      0.004962        -0.002772   \n",
       "Insulin                  -0.056955      0.005859        -0.007561   \n",
       "BMI                       0.041971      0.001233        -0.020453   \n",
       "DiabetesPedigreeFunction  0.042038      0.014528         0.000481   \n",
       "Age                       1.000311     -0.011895         0.016192   \n",
       "Oxygen_level             -0.011895      1.000311        -0.003024   \n",
       "Potassium_level           0.016192     -0.003024         1.000311   \n",
       "Sodium_level              0.022205      0.000495         0.000927   \n",
       "\n",
       "                          Sodium_level  \n",
       "Pregnancies                   0.000829  \n",
       "Glucose                       0.011523  \n",
       "BloodPressure                 0.004561  \n",
       "SkinThickness                -0.016584  \n",
       "Insulin                      -0.007775  \n",
       "BMI                           0.008191  \n",
       "DiabetesPedigreeFunction      0.016243  \n",
       "Age                           0.022205  \n",
       "Oxygen_level                  0.000495  \n",
       "Potassium_level               0.000927  \n",
       "Sodium_level                  1.000311  "
      ]
     },
     "execution_count": 286,
     "metadata": {},
     "output_type": "execute_result"
    }
   ],
   "source": [
    "cov_matrix = xtrains.cov()\n",
    "cov_matrix"
   ]
  },
  {
   "cell_type": "code",
   "execution_count": 287,
   "metadata": {},
   "outputs": [],
   "source": [
    "eigen_values, eigen_vectors = np.linalg.eig(cov_matrix)"
   ]
  },
  {
   "cell_type": "code",
   "execution_count": 288,
   "metadata": {},
   "outputs": [
    {
     "data": {
      "text/plain": [
       "array([2.13912273, 1.7276804 , 0.42175139, 0.39494354, 0.66200187,\n",
       "       0.7541703 , 0.86094763, 1.04483822, 1.00561427, 1.00141825,\n",
       "       0.99092967])"
      ]
     },
     "execution_count": 288,
     "metadata": {},
     "output_type": "execute_result"
    }
   ],
   "source": [
    "eigen_values"
   ]
  },
  {
   "cell_type": "code",
   "execution_count": 289,
   "metadata": {
    "scrolled": true
   },
   "outputs": [
    {
     "data": {
      "text/plain": [
       "array([[-0.14939497, -0.58180068, -0.57660254,  0.12861918, -0.11883391,\n",
       "        -0.50582704, -0.10505093,  0.00323054,  0.07816387,  0.05470841,\n",
       "         0.00667106],\n",
       "       [-0.39019476, -0.17508666, -0.0221552 ,  0.44839887, -0.17510099,\n",
       "         0.39825582,  0.47124956,  0.39675623, -0.0741782 ,  0.05013093,\n",
       "         0.19688852],\n",
       "       [-0.36726391, -0.17535244, -0.21721726,  0.01760278,  0.58075823,\n",
       "         0.42190197, -0.05018238, -0.47703475, -0.01494874, -0.05925911,\n",
       "        -0.19436723],\n",
       "       [-0.43275959,  0.33875076,  0.31888694,  0.54118056,  0.08558237,\n",
       "        -0.48965828, -0.075652  , -0.19936304,  0.02017019,  0.01785836,\n",
       "        -0.10058631],\n",
       "       [-0.43304401,  0.27680889, -0.15147123, -0.56445682,  0.3091836 ,\n",
       "        -0.29222301,  0.31179238,  0.29794853, -0.03303661,  0.07216705,\n",
       "         0.14497787],\n",
       "       [-0.44566909,  0.10380745, -0.0376387 , -0.32005854, -0.71206978,\n",
       "         0.14364054, -0.03539527, -0.35984284,  0.04839187, -0.07434191,\n",
       "        -0.14305512],\n",
       "       [-0.27172799,  0.12934758, -0.09437823,  0.02199765,  0.0179046 ,\n",
       "         0.21033073, -0.7979477 ,  0.45100874,  0.016252  , -0.02601099,\n",
       "         0.12005102],\n",
       "       [-0.2078964 , -0.61567677,  0.69568002, -0.258772  ,  0.06818403,\n",
       "        -0.08189458, -0.09710145,  0.06080297,  0.01012671,  0.00608821,\n",
       "         0.04654539],\n",
       "       [-0.00205105,  0.0087008 ,  0.02622812, -0.0046382 ,  0.02710623,\n",
       "         0.06488677,  0.08248053,  0.25949845,  0.72676298,  0.20971117,\n",
       "        -0.58988129],\n",
       "       [-0.0011981 , -0.03447921, -0.00772473, -0.02340674, -0.04242812,\n",
       "        -0.02122129, -0.02205125,  0.19430601, -0.67250445,  0.30086304,\n",
       "        -0.64415047],\n",
       "       [-0.00740589, -0.02999542, -0.01344306,  0.01200401,  0.02170884,\n",
       "        -0.07830416,  0.08210247,  0.21167412, -0.05925516, -0.91908516,\n",
       "        -0.30387883]])"
      ]
     },
     "execution_count": 289,
     "metadata": {},
     "output_type": "execute_result"
    }
   ],
   "source": [
    "eigen_vectors"
   ]
  },
  {
   "cell_type": "code",
   "execution_count": 290,
   "metadata": {},
   "outputs": [],
   "source": [
    "eign_pairs = {}\n",
    "for i in range(len(eigen_values)):\n",
    "    eign_pairs[eigen_values[i]] = eigen_vectors[:,i]"
   ]
  },
  {
   "cell_type": "code",
   "execution_count": 291,
   "metadata": {},
   "outputs": [],
   "source": [
    "eign_sorted = sorted(eign_pairs,reverse=True)"
   ]
  },
  {
   "cell_type": "code",
   "execution_count": 292,
   "metadata": {},
   "outputs": [],
   "source": [
    "eign = []\n",
    "for i in eign_sorted:\n",
    "    eign.append(eign_pairs[i])"
   ]
  },
  {
   "cell_type": "code",
   "execution_count": 293,
   "metadata": {
    "scrolled": true
   },
   "outputs": [],
   "source": [
    "eign = np.array(eign).T"
   ]
  },
  {
   "cell_type": "code",
   "execution_count": 294,
   "metadata": {},
   "outputs": [],
   "source": [
    "pc = np.dot(xtrains,eign)"
   ]
  },
  {
   "cell_type": "code",
   "execution_count": 295,
   "metadata": {
    "scrolled": true
   },
   "outputs": [
    {
     "data": {
      "text/plain": [
       "array([ 1.6021236 ,  0.6730128 ,  0.68106525, ...,  0.82266272,\n",
       "        1.02345242, -0.34240321])"
      ]
     },
     "execution_count": 295,
     "metadata": {},
     "output_type": "execute_result"
    }
   ],
   "source": [
    "pc[:,0]"
   ]
  },
  {
   "cell_type": "code",
   "execution_count": 296,
   "metadata": {},
   "outputs": [
    {
     "name": "stdout",
     "output_type": "stream",
     "text": [
      "Explained Variance ratio = [19.440529082867062, 15.70130626064127, 9.495578506318354, 9.13910789587259, 9.100974152631279, 9.005653006622225, 7.82436517008111, 6.853963734922982, 6.016329241369183, 3.832912471806508, 3.5892804768674234]\n"
     ]
    }
   ],
   "source": [
    "exp_var = []\n",
    "total = np.sum(eign_sorted)\n",
    "for i in eign_sorted:\n",
    "    exp_var.append((i*100)/total)\n",
    "print('Explained Variance ratio =',exp_var)"
   ]
  },
  {
   "cell_type": "code",
   "execution_count": 297,
   "metadata": {},
   "outputs": [
    {
     "data": {
      "text/plain": [
       "array([ 19.44052908,  35.14183534,  44.63741385,  53.77652175,\n",
       "        62.8774959 ,  71.8831489 ,  79.70751408,  86.56147781,\n",
       "        92.57780705,  96.41071952, 100.        ])"
      ]
     },
     "execution_count": 297,
     "metadata": {},
     "output_type": "execute_result"
    }
   ],
   "source": [
    "cum_exp_var = np.cumsum(exp_var)\n",
    "cum_exp_var"
   ]
  },
  {
   "cell_type": "markdown",
   "metadata": {},
   "source": [
    "#### Visualization"
   ]
  },
  {
   "cell_type": "code",
   "execution_count": 298,
   "metadata": {},
   "outputs": [
    {
     "data": {
      "image/png": "[encoded data removed]",
      "text/plain": [
       "<Figure size 432x288 with 1 Axes>"
      ]
     },
     "metadata": {
      "needs_background": "light"
     },
     "output_type": "display_data"
    }
   ],
   "source": [
    "plt.plot(range(1,len(exp_var)+1),cum_exp_var)\n",
    "plt.xlabel('No. of components')\n",
    "plt.ylabel('Explained variance ratio')\n",
    "plt.show()"
   ]
  },
  {
   "cell_type": "markdown",
   "metadata": {},
   "source": [
    "#### Using Built-in PCA"
   ]
  },
  {
   "cell_type": "code",
   "execution_count": 299,
   "metadata": {},
   "outputs": [],
   "source": [
    "from sklearn.decomposition import PCA"
   ]
  },
  {
   "cell_type": "code",
   "execution_count": 300,
   "metadata": {},
   "outputs": [],
   "source": [
    "pca = PCA()\n",
    "components = pca.fit_transform(xtrains)"
   ]
  },
  {
   "cell_type": "code",
   "execution_count": 301,
   "metadata": {},
   "outputs": [],
   "source": [
    "components = pd.DataFrame(components,columns=['PC'+str(i) for i in range(1,xtrains.shape[1]+1)])"
   ]
  },
  {
   "cell_type": "code",
   "execution_count": 302,
   "metadata": {},
   "outputs": [
    {
     "data": {
      "text/html": [
       "<div>\n",
       "<style scoped>\n",
       "    .dataframe tbody tr th:only-of-type {\n",
       "        vertical-align: middle;\n",
       "    }\n",
       "\n",
       "    .dataframe tbody tr th {\n",
       "        vertical-align: top;\n",
       "    }\n",
       "\n",
       "    .dataframe thead th {\n",
       "        text-align: right;\n",
       "    }\n",
       "</style>\n",
       "<table border=\"1\" class=\"dataframe\">\n",
       "  <thead>\n",
       "    <tr style=\"text-align: right;\">\n",
       "      <th></th>\n",
       "      <th>PC1</th>\n",
       "      <th>PC2</th>\n",
       "      <th>PC3</th>\n",
       "      <th>PC4</th>\n",
       "      <th>PC5</th>\n",
       "      <th>PC6</th>\n",
       "      <th>PC7</th>\n",
       "      <th>PC8</th>\n",
       "      <th>PC9</th>\n",
       "      <th>PC10</th>\n",
       "      <th>PC11</th>\n",
       "    </tr>\n",
       "  </thead>\n",
       "  <tbody>\n",
       "    <tr>\n",
       "      <th>0</th>\n",
       "      <td>-1.602124</td>\n",
       "      <td>-0.284012</td>\n",
       "      <td>0.306200</td>\n",
       "      <td>0.544690</td>\n",
       "      <td>0.815581</td>\n",
       "      <td>-0.164872</td>\n",
       "      <td>-0.030579</td>\n",
       "      <td>-0.562245</td>\n",
       "      <td>-0.596293</td>\n",
       "      <td>-0.205998</td>\n",
       "      <td>0.262128</td>\n",
       "    </tr>\n",
       "    <tr>\n",
       "      <th>1</th>\n",
       "      <td>-0.673013</td>\n",
       "      <td>0.520323</td>\n",
       "      <td>-0.867345</td>\n",
       "      <td>0.328833</td>\n",
       "      <td>-2.195429</td>\n",
       "      <td>0.243081</td>\n",
       "      <td>-0.124557</td>\n",
       "      <td>0.959005</td>\n",
       "      <td>0.546878</td>\n",
       "      <td>0.649840</td>\n",
       "      <td>-1.138952</td>\n",
       "    </tr>\n",
       "    <tr>\n",
       "      <th>2</th>\n",
       "      <td>-0.681065</td>\n",
       "      <td>1.219556</td>\n",
       "      <td>-0.390536</td>\n",
       "      <td>-0.366255</td>\n",
       "      <td>0.625013</td>\n",
       "      <td>-0.490394</td>\n",
       "      <td>-0.390926</td>\n",
       "      <td>0.677496</td>\n",
       "      <td>0.452323</td>\n",
       "      <td>-0.211221</td>\n",
       "      <td>-0.447723</td>\n",
       "    </tr>\n",
       "    <tr>\n",
       "      <th>3</th>\n",
       "      <td>0.538612</td>\n",
       "      <td>2.315564</td>\n",
       "      <td>-0.525947</td>\n",
       "      <td>-0.057640</td>\n",
       "      <td>-0.777030</td>\n",
       "      <td>1.665592</td>\n",
       "      <td>0.894599</td>\n",
       "      <td>0.862115</td>\n",
       "      <td>-0.146637</td>\n",
       "      <td>-0.886436</td>\n",
       "      <td>-0.060919</td>\n",
       "    </tr>\n",
       "    <tr>\n",
       "      <th>4</th>\n",
       "      <td>-1.417065</td>\n",
       "      <td>0.704304</td>\n",
       "      <td>-0.439928</td>\n",
       "      <td>-1.172012</td>\n",
       "      <td>-0.440371</td>\n",
       "      <td>-1.254980</td>\n",
       "      <td>0.285650</td>\n",
       "      <td>0.185782</td>\n",
       "      <td>0.121323</td>\n",
       "      <td>0.226355</td>\n",
       "      <td>-1.126476</td>\n",
       "    </tr>\n",
       "    <tr>\n",
       "      <th>...</th>\n",
       "      <td>...</td>\n",
       "      <td>...</td>\n",
       "      <td>...</td>\n",
       "      <td>...</td>\n",
       "      <td>...</td>\n",
       "      <td>...</td>\n",
       "      <td>...</td>\n",
       "      <td>...</td>\n",
       "      <td>...</td>\n",
       "      <td>...</td>\n",
       "      <td>...</td>\n",
       "    </tr>\n",
       "    <tr>\n",
       "      <th>3214</th>\n",
       "      <td>1.018815</td>\n",
       "      <td>-1.521049</td>\n",
       "      <td>-1.748978</td>\n",
       "      <td>-1.422349</td>\n",
       "      <td>0.694215</td>\n",
       "      <td>0.078163</td>\n",
       "      <td>-0.489211</td>\n",
       "      <td>-0.732336</td>\n",
       "      <td>0.132370</td>\n",
       "      <td>0.212096</td>\n",
       "      <td>0.377119</td>\n",
       "    </tr>\n",
       "    <tr>\n",
       "      <th>3215</th>\n",
       "      <td>1.248539</td>\n",
       "      <td>3.357446</td>\n",
       "      <td>0.235176</td>\n",
       "      <td>0.017151</td>\n",
       "      <td>0.950293</td>\n",
       "      <td>0.272551</td>\n",
       "      <td>0.504839</td>\n",
       "      <td>-1.236625</td>\n",
       "      <td>-0.693069</td>\n",
       "      <td>2.199192</td>\n",
       "      <td>0.076870</td>\n",
       "    </tr>\n",
       "    <tr>\n",
       "      <th>3216</th>\n",
       "      <td>-0.822663</td>\n",
       "      <td>-1.534067</td>\n",
       "      <td>-0.048512</td>\n",
       "      <td>-1.698054</td>\n",
       "      <td>-0.754814</td>\n",
       "      <td>0.020482</td>\n",
       "      <td>0.377792</td>\n",
       "      <td>-0.236465</td>\n",
       "      <td>-0.245328</td>\n",
       "      <td>0.131764</td>\n",
       "      <td>-0.079222</td>\n",
       "    </tr>\n",
       "    <tr>\n",
       "      <th>3217</th>\n",
       "      <td>-1.023452</td>\n",
       "      <td>1.982946</td>\n",
       "      <td>0.249113</td>\n",
       "      <td>-0.404899</td>\n",
       "      <td>-0.759686</td>\n",
       "      <td>0.303027</td>\n",
       "      <td>-0.372657</td>\n",
       "      <td>0.679689</td>\n",
       "      <td>-1.017236</td>\n",
       "      <td>1.114977</td>\n",
       "      <td>-0.280267</td>\n",
       "    </tr>\n",
       "    <tr>\n",
       "      <th>3218</th>\n",
       "      <td>0.342403</td>\n",
       "      <td>0.438285</td>\n",
       "      <td>-0.390544</td>\n",
       "      <td>-1.826180</td>\n",
       "      <td>0.648803</td>\n",
       "      <td>0.678296</td>\n",
       "      <td>-0.356623</td>\n",
       "      <td>1.705118</td>\n",
       "      <td>1.712198</td>\n",
       "      <td>-0.922711</td>\n",
       "      <td>0.059130</td>\n",
       "    </tr>\n",
       "  </tbody>\n",
       "</table>\n",
       "<p>3219 rows × 11 columns</p>\n",
       "</div>"
      ],
      "text/plain": [
       "           PC1       PC2       PC3       PC4       PC5       PC6       PC7  \\\n",
       "0    -1.602124 -0.284012  0.306200  0.544690  0.815581 -0.164872 -0.030579   \n",
       "1    -0.673013  0.520323 -0.867345  0.328833 -2.195429  0.243081 -0.124557   \n",
       "2    -0.681065  1.219556 -0.390536 -0.366255  0.625013 -0.490394 -0.390926   \n",
       "3     0.538612  2.315564 -0.525947 -0.057640 -0.777030  1.665592  0.894599   \n",
       "4    -1.417065  0.704304 -0.439928 -1.172012 -0.440371 -1.254980  0.285650   \n",
       "...        ...       ...       ...       ...       ...       ...       ...   \n",
       "3214  1.018815 -1.521049 -1.748978 -1.422349  0.694215  0.078163 -0.489211   \n",
       "3215  1.248539  3.357446  0.235176  0.017151  0.950293  0.272551  0.504839   \n",
       "3216 -0.822663 -1.534067 -0.048512 -1.698054 -0.754814  0.020482  0.377792   \n",
       "3217 -1.023452  1.982946  0.249113 -0.404899 -0.759686  0.303027 -0.372657   \n",
       "3218  0.342403  0.438285 -0.390544 -1.826180  0.648803  0.678296 -0.356623   \n",
       "\n",
       "           PC8       PC9      PC10      PC11  \n",
       "0    -0.562245 -0.596293 -0.205998  0.262128  \n",
       "1     0.959005  0.546878  0.649840 -1.138952  \n",
       "2     0.677496  0.452323 -0.211221 -0.447723  \n",
       "3     0.862115 -0.146637 -0.886436 -0.060919  \n",
       "4     0.185782  0.121323  0.226355 -1.126476  \n",
       "...        ...       ...       ...       ...  \n",
       "3214 -0.732336  0.132370  0.212096  0.377119  \n",
       "3215 -1.236625 -0.693069  2.199192  0.076870  \n",
       "3216 -0.236465 -0.245328  0.131764 -0.079222  \n",
       "3217  0.679689 -1.017236  1.114977 -0.280267  \n",
       "3218  1.705118  1.712198 -0.922711  0.059130  \n",
       "\n",
       "[3219 rows x 11 columns]"
      ]
     },
     "execution_count": 302,
     "metadata": {},
     "output_type": "execute_result"
    }
   ],
   "source": [
    "components"
   ]
  },
  {
   "cell_type": "code",
   "execution_count": 303,
   "metadata": {},
   "outputs": [
    {
     "data": {
      "text/plain": [
       "array([19.44052908, 15.70130626,  9.49557851,  9.1391079 ,  9.10097415,\n",
       "        9.00565301,  7.82436517,  6.85396373,  6.01632924,  3.83291247,\n",
       "        3.58928048])"
      ]
     },
     "execution_count": 303,
     "metadata": {},
     "output_type": "execute_result"
    }
   ],
   "source": [
    "pca.explained_variance_ratio_*100"
   ]
  },
  {
   "cell_type": "code",
   "execution_count": 304,
   "metadata": {},
   "outputs": [
    {
     "data": {
      "text/plain": [
       "array([ 19.04281309,  34.78551145,  44.19522679,  53.40616104,\n",
       "        62.52285303,  71.48024333,  79.40726255,  86.31004032,\n",
       "        92.50946602,  96.3232041 , 100.        ])"
      ]
     },
     "execution_count": 304,
     "metadata": {},
     "output_type": "execute_result"
    }
   ],
   "source": [
    "np.cumsum(pca1.explained_variance_ratio_*100)"
   ]
  },
  {
   "cell_type": "markdown",
   "metadata": {},
   "source": [
    "#### Select optimal no of components"
   ]
  },
  {
   "cell_type": "code",
   "execution_count": 305,
   "metadata": {},
   "outputs": [],
   "source": [
    "pca = PCA(n_components=9)\n",
    "xtrain_pc = pca.fit_transform(xtrains)\n",
    "xtest_pc = pca.transform(xtests)"
   ]
  },
  {
   "cell_type": "code",
   "execution_count": 306,
   "metadata": {},
   "outputs": [
    {
     "data": {
      "text/plain": [
       "LogisticRegression(random_state=1)"
      ]
     },
     "execution_count": 306,
     "metadata": {},
     "output_type": "execute_result"
    }
   ],
   "source": [
    "logr = LogisticRegression(random_state=1)\n",
    "logr.fit(xtrain_pc,ytrain)"
   ]
  },
  {
   "cell_type": "code",
   "execution_count": 307,
   "metadata": {},
   "outputs": [
    {
     "name": "stdout",
     "output_type": "stream",
     "text": [
      "              precision    recall  f1-score   support\n",
      "\n",
      "           0       0.78      0.87      0.82       882\n",
      "           1       0.71      0.55      0.62       498\n",
      "\n",
      "    accuracy                           0.76      1380\n",
      "   macro avg       0.74      0.71      0.72      1380\n",
      "weighted avg       0.75      0.76      0.75      1380\n",
      "\n"
     ]
    }
   ],
   "source": [
    "print(classification_report(ytest,logr.predict(xtest_pc)))"
   ]
  },
  {
   "cell_type": "code",
   "execution_count": null,
   "metadata": {},
   "outputs": [],
   "source": []
  }
 ],
 "metadata": {
  "kernelspec": {
   "display_name": "Python 3",
   "language": "python",
   "name": "python3"
  },
  "language_info": {
   "codemirror_mode": {
    "name": "ipython",
    "version": 3
   },
   "file_extension": ".py",
   "mimetype": "text/x-python",
   "name": "python",
   "nbconvert_exporter": "python",
   "pygments_lexer": "ipython3",
   "version": "3.7.6"
  }
 },
 "nbformat": 4,
 "nbformat_minor": 4
}
