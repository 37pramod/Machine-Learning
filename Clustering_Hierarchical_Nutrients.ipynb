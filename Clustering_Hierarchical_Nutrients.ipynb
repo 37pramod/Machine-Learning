{
 "cells": [
  {
   "cell_type": "markdown",
   "metadata": {},
   "source": [
    "## Dataset has different food items and amount of nutrients present in that food."
   ]
  },
  {
   "cell_type": "code",
   "execution_count": 87,
   "metadata": {},
   "outputs": [],
   "source": [
    "import numpy as np\n",
    "import pandas as pd\n",
    "import matplotlib.pyplot as plt\n",
    "import seaborn as sns\n",
    "\n",
    "from warnings import filterwarnings\n",
    "filterwarnings('ignore')"
   ]
  },
  {
   "cell_type": "markdown",
   "metadata": {},
   "source": [
    "#### Read the data"
   ]
  },
  {
   "cell_type": "code",
   "execution_count": 88,
   "metadata": {},
   "outputs": [
    {
     "data": {
      "text/html": [
       "<div>\n",
       "<style scoped>\n",
       "    .dataframe tbody tr th:only-of-type {\n",
       "        vertical-align: middle;\n",
       "    }\n",
       "\n",
       "    .dataframe tbody tr th {\n",
       "        vertical-align: top;\n",
       "    }\n",
       "\n",
       "    .dataframe thead th {\n",
       "        text-align: right;\n",
       "    }\n",
       "</style>\n",
       "<table border=\"1\" class=\"dataframe\">\n",
       "  <thead>\n",
       "    <tr style=\"text-align: right;\">\n",
       "      <th></th>\n",
       "      <th>Food</th>\n",
       "      <th>Calories</th>\n",
       "      <th>Fat</th>\n",
       "      <th>Sodium</th>\n",
       "      <th>Potassium</th>\n",
       "      <th>Carbohydrate</th>\n",
       "      <th>Protein</th>\n",
       "      <th>Vitamin A</th>\n",
       "      <th>Vitamin C</th>\n",
       "      <th>Calcium</th>\n",
       "      <th>Iron</th>\n",
       "    </tr>\n",
       "  </thead>\n",
       "  <tbody>\n",
       "    <tr>\n",
       "      <th>0</th>\n",
       "      <td>Honeydew_Melon</td>\n",
       "      <td>36</td>\n",
       "      <td>0.14</td>\n",
       "      <td>18</td>\n",
       "      <td>228</td>\n",
       "      <td>9.00</td>\n",
       "      <td>0.54</td>\n",
       "      <td>34.00</td>\n",
       "      <td>18.0</td>\n",
       "      <td>6.0</td>\n",
       "      <td>0.17</td>\n",
       "    </tr>\n",
       "    <tr>\n",
       "      <th>1</th>\n",
       "      <td>Potato</td>\n",
       "      <td>77</td>\n",
       "      <td>0.09</td>\n",
       "      <td>6</td>\n",
       "      <td>421</td>\n",
       "      <td>17.00</td>\n",
       "      <td>2.00</td>\n",
       "      <td>1.34</td>\n",
       "      <td>19.7</td>\n",
       "      <td>12.0</td>\n",
       "      <td>0.78</td>\n",
       "    </tr>\n",
       "    <tr>\n",
       "      <th>2</th>\n",
       "      <td>Sweet Corn</td>\n",
       "      <td>86</td>\n",
       "      <td>1.18</td>\n",
       "      <td>15</td>\n",
       "      <td>270</td>\n",
       "      <td>19.00</td>\n",
       "      <td>3.20</td>\n",
       "      <td>0.00</td>\n",
       "      <td>6.8</td>\n",
       "      <td>2.0</td>\n",
       "      <td>0.52</td>\n",
       "    </tr>\n",
       "    <tr>\n",
       "      <th>3</th>\n",
       "      <td>Celery</td>\n",
       "      <td>16</td>\n",
       "      <td>0.17</td>\n",
       "      <td>80</td>\n",
       "      <td>260</td>\n",
       "      <td>2.79</td>\n",
       "      <td>0.69</td>\n",
       "      <td>0.00</td>\n",
       "      <td>3.1</td>\n",
       "      <td>40.0</td>\n",
       "      <td>0.20</td>\n",
       "    </tr>\n",
       "    <tr>\n",
       "      <th>4</th>\n",
       "      <td>Pomegranates</td>\n",
       "      <td>83</td>\n",
       "      <td>1.17</td>\n",
       "      <td>3</td>\n",
       "      <td>236</td>\n",
       "      <td>18.70</td>\n",
       "      <td>1.67</td>\n",
       "      <td>0.00</td>\n",
       "      <td>10.2</td>\n",
       "      <td>10.0</td>\n",
       "      <td>0.30</td>\n",
       "    </tr>\n",
       "  </tbody>\n",
       "</table>\n",
       "</div>"
      ],
      "text/plain": [
       "             Food  Calories   Fat  Sodium  Potassium  Carbohydrate  Protein  \\\n",
       "0  Honeydew_Melon        36  0.14      18        228          9.00     0.54   \n",
       "1          Potato        77  0.09       6        421         17.00     2.00   \n",
       "2      Sweet Corn        86  1.18      15        270         19.00     3.20   \n",
       "3          Celery        16  0.17      80        260          2.79     0.69   \n",
       "4    Pomegranates        83  1.17       3        236         18.70     1.67   \n",
       "\n",
       "   Vitamin A  Vitamin C  Calcium  Iron  \n",
       "0      34.00       18.0      6.0  0.17  \n",
       "1       1.34       19.7     12.0  0.78  \n",
       "2       0.00        6.8      2.0  0.52  \n",
       "3       0.00        3.1     40.0  0.20  \n",
       "4       0.00       10.2     10.0  0.30  "
      ]
     },
     "execution_count": 88,
     "metadata": {},
     "output_type": "execute_result"
    }
   ],
   "source": [
    "df = pd.read_csv('Nutrients.csv')\n",
    "df.head()"
   ]
  },
  {
   "cell_type": "markdown",
   "metadata": {},
   "source": [
    "#### Check for missing values"
   ]
  },
  {
   "cell_type": "code",
   "execution_count": 89,
   "metadata": {},
   "outputs": [
    {
     "name": "stdout",
     "output_type": "stream",
     "text": [
      "<class 'pandas.core.frame.DataFrame'>\n",
      "RangeIndex: 61 entries, 0 to 60\n",
      "Data columns (total 11 columns):\n",
      " #   Column        Non-Null Count  Dtype  \n",
      "---  ------        --------------  -----  \n",
      " 0   Food          61 non-null     object \n",
      " 1   Calories      61 non-null     int64  \n",
      " 2   Fat           61 non-null     float64\n",
      " 3   Sodium        61 non-null     int64  \n",
      " 4   Potassium     61 non-null     int64  \n",
      " 5   Carbohydrate  61 non-null     float64\n",
      " 6   Protein       61 non-null     float64\n",
      " 7   Vitamin A     61 non-null     float64\n",
      " 8   Vitamin C     61 non-null     float64\n",
      " 9   Calcium       61 non-null     float64\n",
      " 10  Iron          61 non-null     float64\n",
      "dtypes: float64(7), int64(3), object(1)\n",
      "memory usage: 5.4+ KB\n"
     ]
    }
   ],
   "source": [
    "df.info()"
   ]
  },
  {
   "cell_type": "markdown",
   "metadata": {},
   "source": [
    "We can see that there are no missing values and the data types are also correct for our analysis."
   ]
  },
  {
   "cell_type": "markdown",
   "metadata": {},
   "source": [
    "#### Remove columns which are not required."
   ]
  },
  {
   "cell_type": "markdown",
   "metadata": {},
   "source": [
    "Food column does not help in our analysis, hence we remove this column from further analysis."
   ]
  },
  {
   "cell_type": "code",
   "execution_count": 90,
   "metadata": {},
   "outputs": [],
   "source": [
    "data = df.copy()"
   ]
  },
  {
   "cell_type": "code",
   "execution_count": 91,
   "metadata": {},
   "outputs": [
    {
     "data": {
      "text/html": [
       "<div>\n",
       "<style scoped>\n",
       "    .dataframe tbody tr th:only-of-type {\n",
       "        vertical-align: middle;\n",
       "    }\n",
       "\n",
       "    .dataframe tbody tr th {\n",
       "        vertical-align: top;\n",
       "    }\n",
       "\n",
       "    .dataframe thead th {\n",
       "        text-align: right;\n",
       "    }\n",
       "</style>\n",
       "<table border=\"1\" class=\"dataframe\">\n",
       "  <thead>\n",
       "    <tr style=\"text-align: right;\">\n",
       "      <th></th>\n",
       "      <th>Calories</th>\n",
       "      <th>Fat</th>\n",
       "      <th>Sodium</th>\n",
       "      <th>Potassium</th>\n",
       "      <th>Carbohydrate</th>\n",
       "      <th>Protein</th>\n",
       "      <th>Vitamin A</th>\n",
       "      <th>Vitamin C</th>\n",
       "      <th>Calcium</th>\n",
       "      <th>Iron</th>\n",
       "    </tr>\n",
       "  </thead>\n",
       "  <tbody>\n",
       "    <tr>\n",
       "      <th>0</th>\n",
       "      <td>36</td>\n",
       "      <td>0.14</td>\n",
       "      <td>18</td>\n",
       "      <td>228</td>\n",
       "      <td>9.00</td>\n",
       "      <td>0.54</td>\n",
       "      <td>34.00</td>\n",
       "      <td>18.0</td>\n",
       "      <td>6.0</td>\n",
       "      <td>0.17</td>\n",
       "    </tr>\n",
       "    <tr>\n",
       "      <th>1</th>\n",
       "      <td>77</td>\n",
       "      <td>0.09</td>\n",
       "      <td>6</td>\n",
       "      <td>421</td>\n",
       "      <td>17.00</td>\n",
       "      <td>2.00</td>\n",
       "      <td>1.34</td>\n",
       "      <td>19.7</td>\n",
       "      <td>12.0</td>\n",
       "      <td>0.78</td>\n",
       "    </tr>\n",
       "    <tr>\n",
       "      <th>2</th>\n",
       "      <td>86</td>\n",
       "      <td>1.18</td>\n",
       "      <td>15</td>\n",
       "      <td>270</td>\n",
       "      <td>19.00</td>\n",
       "      <td>3.20</td>\n",
       "      <td>0.00</td>\n",
       "      <td>6.8</td>\n",
       "      <td>2.0</td>\n",
       "      <td>0.52</td>\n",
       "    </tr>\n",
       "    <tr>\n",
       "      <th>3</th>\n",
       "      <td>16</td>\n",
       "      <td>0.17</td>\n",
       "      <td>80</td>\n",
       "      <td>260</td>\n",
       "      <td>2.79</td>\n",
       "      <td>0.69</td>\n",
       "      <td>0.00</td>\n",
       "      <td>3.1</td>\n",
       "      <td>40.0</td>\n",
       "      <td>0.20</td>\n",
       "    </tr>\n",
       "    <tr>\n",
       "      <th>4</th>\n",
       "      <td>83</td>\n",
       "      <td>1.17</td>\n",
       "      <td>3</td>\n",
       "      <td>236</td>\n",
       "      <td>18.70</td>\n",
       "      <td>1.67</td>\n",
       "      <td>0.00</td>\n",
       "      <td>10.2</td>\n",
       "      <td>10.0</td>\n",
       "      <td>0.30</td>\n",
       "    </tr>\n",
       "  </tbody>\n",
       "</table>\n",
       "</div>"
      ],
      "text/plain": [
       "   Calories   Fat  Sodium  Potassium  Carbohydrate  Protein  Vitamin A  \\\n",
       "0        36  0.14      18        228          9.00     0.54      34.00   \n",
       "1        77  0.09       6        421         17.00     2.00       1.34   \n",
       "2        86  1.18      15        270         19.00     3.20       0.00   \n",
       "3        16  0.17      80        260          2.79     0.69       0.00   \n",
       "4        83  1.17       3        236         18.70     1.67       0.00   \n",
       "\n",
       "   Vitamin C  Calcium  Iron  \n",
       "0       18.0      6.0  0.17  \n",
       "1       19.7     12.0  0.78  \n",
       "2        6.8      2.0  0.52  \n",
       "3        3.1     40.0  0.20  \n",
       "4       10.2     10.0  0.30  "
      ]
     },
     "execution_count": 91,
     "metadata": {},
     "output_type": "execute_result"
    }
   ],
   "source": [
    "data.drop('Food',axis=1,inplace=True)\n",
    "data.head()"
   ]
  },
  {
   "cell_type": "markdown",
   "metadata": {},
   "source": [
    "#### Check for outliers."
   ]
  },
  {
   "cell_type": "code",
   "execution_count": 92,
   "metadata": {},
   "outputs": [
    {
     "data": {
      "image/png": "[encoded data removed]",
      "text/plain": [
       "<Figure size 1080x360 with 12 Axes>"
      ]
     },
     "metadata": {
      "needs_background": "light"
     },
     "output_type": "display_data"
    }
   ],
   "source": [
    "data.plot(kind='box',subplots=True,figsize=(15,5),layout=(3,4))\n",
    "plt.tight_layout()\n",
    "plt.show()"
   ]
  },
  {
   "cell_type": "markdown",
   "metadata": {},
   "source": [
    "We can see that we have outliers and Hierarchical is effected by outliers.Hence we need to treat the outliers, we use capping method to treat the outliers."
   ]
  },
  {
   "cell_type": "code",
   "execution_count": 93,
   "metadata": {},
   "outputs": [],
   "source": [
    "for i in data.columns:\n",
    "    Q1 = data[i].quantile(0.25)\n",
    "    Q3 = data[i].quantile(0.75)\n",
    "    IQR = Q3 - Q1\n",
    "    lower_viscor = Q1 - (1.5 * IQR)\n",
    "    upper_viscor = Q3 + (1.5 * IQR)\n",
    "    lower_limit = data[i].quantile(0.01) # 1% value is used to cap values below lower_viscor\n",
    "    upper_limit = data[i].quantile(0.99) # 99% value is used to cap values above upper_viscor\n",
    "    for j in data[i].index:\n",
    "        if (data[i][j] > upper_viscor):\n",
    "            data[i][j] = upper_limit\n",
    "        elif (data[i][j] < lower_viscor):\n",
    "            data[i][j] = lower_limit"
   ]
  },
  {
   "cell_type": "code",
   "execution_count": 94,
   "metadata": {},
   "outputs": [
    {
     "data": {
      "image/png": "[encoded data removed]",
      "text/plain": [
       "<Figure size 1080x360 with 12 Axes>"
      ]
     },
     "metadata": {
      "needs_background": "light"
     },
     "output_type": "display_data"
    }
   ],
   "source": [
    "data.plot(kind='box',subplots=True,figsize=(15,5),layout=(4,3))\n",
    "plt.tight_layout()\n",
    "plt.show()"
   ]
  },
  {
   "cell_type": "markdown",
   "metadata": {},
   "source": [
    "#### Scaling"
   ]
  },
  {
   "cell_type": "code",
   "execution_count": 95,
   "metadata": {},
   "outputs": [],
   "source": [
    "from sklearn.preprocessing import StandardScaler"
   ]
  },
  {
   "cell_type": "code",
   "execution_count": 96,
   "metadata": {},
   "outputs": [
    {
     "data": {
      "text/html": [
       "<div>\n",
       "<style scoped>\n",
       "    .dataframe tbody tr th:only-of-type {\n",
       "        vertical-align: middle;\n",
       "    }\n",
       "\n",
       "    .dataframe tbody tr th {\n",
       "        vertical-align: top;\n",
       "    }\n",
       "\n",
       "    .dataframe thead th {\n",
       "        text-align: right;\n",
       "    }\n",
       "</style>\n",
       "<table border=\"1\" class=\"dataframe\">\n",
       "  <thead>\n",
       "    <tr style=\"text-align: right;\">\n",
       "      <th></th>\n",
       "      <th>Calories</th>\n",
       "      <th>Fat</th>\n",
       "      <th>Sodium</th>\n",
       "      <th>Potassium</th>\n",
       "      <th>Carbohydrate</th>\n",
       "      <th>Protein</th>\n",
       "      <th>Vitamin A</th>\n",
       "      <th>Vitamin C</th>\n",
       "      <th>Calcium</th>\n",
       "      <th>Iron</th>\n",
       "    </tr>\n",
       "  </thead>\n",
       "  <tbody>\n",
       "    <tr>\n",
       "      <th>0</th>\n",
       "      <td>-0.686225</td>\n",
       "      <td>-0.454138</td>\n",
       "      <td>-0.423514</td>\n",
       "      <td>-0.409152</td>\n",
       "      <td>0.362252</td>\n",
       "      <td>-0.724182</td>\n",
       "      <td>2.531055</td>\n",
       "      <td>0.001875</td>\n",
       "      <td>-0.821303</td>\n",
       "      <td>-0.614042</td>\n",
       "    </tr>\n",
       "    <tr>\n",
       "      <th>1</th>\n",
       "      <td>0.376468</td>\n",
       "      <td>-0.479258</td>\n",
       "      <td>-0.528782</td>\n",
       "      <td>1.253583</td>\n",
       "      <td>1.650072</td>\n",
       "      <td>-0.574873</td>\n",
       "      <td>-0.439131</td>\n",
       "      <td>0.062628</td>\n",
       "      <td>-0.552625</td>\n",
       "      <td>0.094219</td>\n",
       "    </tr>\n",
       "    <tr>\n",
       "      <th>2</th>\n",
       "      <td>0.609742</td>\n",
       "      <td>0.068360</td>\n",
       "      <td>-0.449831</td>\n",
       "      <td>-0.047313</td>\n",
       "      <td>1.972026</td>\n",
       "      <td>-0.452153</td>\n",
       "      <td>-0.470890</td>\n",
       "      <td>-0.398384</td>\n",
       "      <td>-1.000421</td>\n",
       "      <td>-0.207663</td>\n",
       "    </tr>\n",
       "    <tr>\n",
       "      <th>3</th>\n",
       "      <td>-1.204612</td>\n",
       "      <td>-0.439066</td>\n",
       "      <td>0.120367</td>\n",
       "      <td>-0.133465</td>\n",
       "      <td>-0.637418</td>\n",
       "      <td>-0.708842</td>\n",
       "      <td>-0.470890</td>\n",
       "      <td>-0.530613</td>\n",
       "      <td>0.701205</td>\n",
       "      <td>-0.579209</td>\n",
       "    </tr>\n",
       "    <tr>\n",
       "      <th>4</th>\n",
       "      <td>0.531984</td>\n",
       "      <td>0.063336</td>\n",
       "      <td>-0.555099</td>\n",
       "      <td>-0.340230</td>\n",
       "      <td>1.923733</td>\n",
       "      <td>-0.608621</td>\n",
       "      <td>-0.470890</td>\n",
       "      <td>-0.276877</td>\n",
       "      <td>-0.642184</td>\n",
       "      <td>-0.463101</td>\n",
       "    </tr>\n",
       "  </tbody>\n",
       "</table>\n",
       "</div>"
      ],
      "text/plain": [
       "   Calories       Fat    Sodium  Potassium  Carbohydrate   Protein  Vitamin A  \\\n",
       "0 -0.686225 -0.454138 -0.423514  -0.409152      0.362252 -0.724182   2.531055   \n",
       "1  0.376468 -0.479258 -0.528782   1.253583      1.650072 -0.574873  -0.439131   \n",
       "2  0.609742  0.068360 -0.449831  -0.047313      1.972026 -0.452153  -0.470890   \n",
       "3 -1.204612 -0.439066  0.120367  -0.133465     -0.637418 -0.708842  -0.470890   \n",
       "4  0.531984  0.063336 -0.555099  -0.340230      1.923733 -0.608621  -0.470890   \n",
       "\n",
       "   Vitamin C   Calcium      Iron  \n",
       "0   0.001875 -0.821303 -0.614042  \n",
       "1   0.062628 -0.552625  0.094219  \n",
       "2  -0.398384 -1.000421 -0.207663  \n",
       "3  -0.530613  0.701205 -0.579209  \n",
       "4  -0.276877 -0.642184 -0.463101  "
      ]
     },
     "execution_count": 96,
     "metadata": {},
     "output_type": "execute_result"
    }
   ],
   "source": [
    "ss = StandardScaler()\n",
    "data_scale = pd.DataFrame(ss.fit_transform(data),columns=data.columns)\n",
    "data_scale.head()"
   ]
  },
  {
   "cell_type": "code",
   "execution_count": 97,
   "metadata": {},
   "outputs": [],
   "source": [
    "from sklearn.metrics.pairwise import euclidean_distances"
   ]
  },
  {
   "cell_type": "markdown",
   "metadata": {},
   "source": [
    "#### Lets calculate cophenet coeff for diffenrent linkage "
   ]
  },
  {
   "cell_type": "code",
   "execution_count": 98,
   "metadata": {},
   "outputs": [
    {
     "data": {
      "text/plain": [
       "{'single': 0.8420387278544373,\n",
       " 'complete': 0.7608964679304289,\n",
       " 'average': 0.8748068531392688,\n",
       " 'ward': 0.7136511413982466}"
      ]
     },
     "execution_count": 98,
     "metadata": {},
     "output_type": "execute_result"
    }
   ],
   "source": [
    "best = {}\n",
    "link = ['single','complete','average','ward']\n",
    "for i in link:\n",
    "    linkage_matrix = linkage(data_scale,method=i)\n",
    "    euc_dist = euclidean_distances(data_scale)\n",
    "    act_dist = euc_dist[np.triu_indices(data_scale.shape[0],1)]\n",
    "    coeff, cophenet_dist = cophenet(linkage_matrix,act_dist)\n",
    "    best[i] = coeff\n",
    "best"
   ]
  },
  {
   "cell_type": "markdown",
   "metadata": {},
   "source": [
    "we are getting max value for average, hence lets see dendrogram for this"
   ]
  },
  {
   "cell_type": "code",
   "execution_count": 99,
   "metadata": {},
   "outputs": [
    {
     "data": {
      "image/png": "[encoded data removed]",
      "text/plain": [
       "<Figure size 1440x576 with 1 Axes>"
      ]
     },
     "metadata": {
      "needs_background": "light"
     },
     "output_type": "display_data"
    }
   ],
   "source": [
    "linkage_matrix = linkage(data_scale,method='average')\n",
    "plt.figure(figsize=(20,8))\n",
    "dendrogram(linkage_matrix)\n",
    "plt.show()"
   ]
  },
  {
   "cell_type": "code",
   "execution_count": 100,
   "metadata": {},
   "outputs": [],
   "source": [
    "from sklearn.metrics import silhouette_samples,silhouette_score"
   ]
  },
  {
   "cell_type": "code",
   "execution_count": 101,
   "metadata": {},
   "outputs": [],
   "source": [
    "from sklearn.cluster import AgglomerativeClustering"
   ]
  },
  {
   "cell_type": "code",
   "execution_count": 102,
   "metadata": {
    "scrolled": true
   },
   "outputs": [
    {
     "data": {
      "image/png": "[encoded data removed]",
      "text/plain": [
       "<Figure size 432x288 with 1 Axes>"
      ]
     },
     "metadata": {
      "needs_background": "light"
     },
     "output_type": "display_data"
    },
    {
     "data": {
      "image/png": "[encoded data removed]",
      "text/plain": [
       "<Figure size 432x288 with 1 Axes>"
      ]
     },
     "metadata": {
      "needs_background": "light"
     },
     "output_type": "display_data"
    },
    {
     "data": {
      "image/png": "[encoded data removed]",
      "text/plain": [
       "<Figure size 432x288 with 1 Axes>"
      ]
     },
     "metadata": {
      "needs_background": "light"
     },
     "output_type": "display_data"
    },
    {
     "data": {
      "image/png": "[encoded data removed]",
      "text/plain": [
       "<Figure size 432x288 with 1 Axes>"
      ]
     },
     "metadata": {
      "needs_background": "light"
     },
     "output_type": "display_data"
    },
    {
     "data": {
      "image/png": "[encoded data removed]",
      "text/plain": [
       "<Figure size 432x288 with 1 Axes>"
      ]
     },
     "metadata": {
      "needs_background": "light"
     },
     "output_type": "display_data"
    },
    {
     "data": {
      "image/png": "[encoded data removed]",
      "text/plain": [
       "<Figure size 432x288 with 1 Axes>"
      ]
     },
     "metadata": {
      "needs_background": "light"
     },
     "output_type": "display_data"
    },
    {
     "data": {
      "image/png": "[encoded data removed]",
      "text/plain": [
       "<Figure size 432x288 with 1 Axes>"
      ]
     },
     "metadata": {
      "needs_background": "light"
     },
     "output_type": "display_data"
    },
    {
     "data": {
      "image/png": "[encoded data removed]",
      "text/plain": [
       "<Figure size 432x288 with 1 Axes>"
      ]
     },
     "metadata": {
      "needs_background": "light"
     },
     "output_type": "display_data"
    },
    {
     "data": {
      "image/png": "[encoded data removed]",
      "text/plain": [
       "<Figure size 432x288 with 1 Axes>"
      ]
     },
     "metadata": {
      "needs_background": "light"
     },
     "output_type": "display_data"
    },
    {
     "name": "stdout",
     "output_type": "stream",
     "text": [
      "Size of each cluster for different No of Clusters {2: [55, 6], 3: [47, 6, 8], 4: [8, 6, 45, 2], 5: [6, 2, 45, 6, 2], 6: [45, 2, 5, 6, 2, 1], 7: [2, 6, 5, 40, 2, 1, 5], 8: [6, 40, 5, 1, 2, 1, 5, 1], 9: [40, 2, 5, 3, 3, 1, 5, 1, 1], 10: [5, 2, 34, 3, 3, 1, 5, 1, 1, 6]}\n"
     ]
    }
   ],
   "source": [
    "size={}\n",
    "size1 = []\n",
    "sil_score =[]\n",
    "for i in range(2,11):    \n",
    "    model = AgglomerativeClustering(n_clusters=i,linkage='average')\n",
    "    model.fit(data_scale)\n",
    "    predict = model.labels_\n",
    "    score = silhouette_score(data_scale,predict)\n",
    "    sil_score.append(score)\n",
    "    sample = silhouette_samples(data_scale,predict)\n",
    "    y_lower = 10\n",
    "    fig, ax = plt.subplots()\n",
    "    for j in range(i):\n",
    "        cluster = sample[predict==j]\n",
    "        cluster.sort()\n",
    "        cluster_size = cluster.shape[0]\n",
    "        size1.append(cluster_size)\n",
    "        y_upper = cluster_size + y_lower\n",
    "        plt.fill_betweenx(np.arange(y_lower,y_upper),0,cluster)\n",
    "        plt.text(-0.05,(cluster_size*0.5)+y_lower,j)\n",
    "        y_lower = y_upper + 10\n",
    "    size[i] = size1\n",
    "    size1=[]\n",
    "    plt.title('No of Clusters ='+str(i))\n",
    "    ax.set_yticks([])\n",
    "    ax.axvline(score,color='black')\n",
    "    plt.show()\n",
    "print('Size of each cluster for different No of Clusters',size)"
   ]
  },
  {
   "cell_type": "code",
   "execution_count": 103,
   "metadata": {},
   "outputs": [
    {
     "data": {
      "image/png": "[encoded data removed]",
      "text/plain": [
       "<Figure size 1080x360 with 1 Axes>"
      ]
     },
     "metadata": {
      "needs_background": "light"
     },
     "output_type": "display_data"
    },
    {
     "data": {
      "text/plain": [
       "array([0.3633689 , 0.37020488, 0.36168411, 0.35208208, 0.33406023,\n",
       "       0.28092438, 0.2672405 , 0.26809539, 0.28938993])"
      ]
     },
     "execution_count": 103,
     "metadata": {},
     "output_type": "execute_result"
    }
   ],
   "source": [
    "plt.figure(figsize=(15,5))\n",
    "plt.bar(range(2,11),sil_score)\n",
    "plt.show()\n",
    "np.array(sil_score)"
   ]
  },
  {
   "cell_type": "markdown",
   "metadata": {},
   "source": [
    "k=3 has highest silhouette score, but from the plot we can see that for k=3 individual silhouette coefficient are not crossing the silhouette score. Hence we choose k=2"
   ]
  },
  {
   "cell_type": "markdown",
   "metadata": {},
   "source": [
    "#### Build model"
   ]
  },
  {
   "cell_type": "code",
   "execution_count": 104,
   "metadata": {},
   "outputs": [],
   "source": [
    "model = AgglomerativeClustering(n_clusters=2,linkage='average')\n",
    "model.fit(data_scale)\n",
    "predict = model.labels_"
   ]
  },
  {
   "cell_type": "code",
   "execution_count": 105,
   "metadata": {},
   "outputs": [
    {
     "data": {
      "text/html": [
       "<div>\n",
       "<style scoped>\n",
       "    .dataframe tbody tr th:only-of-type {\n",
       "        vertical-align: middle;\n",
       "    }\n",
       "\n",
       "    .dataframe tbody tr th {\n",
       "        vertical-align: top;\n",
       "    }\n",
       "\n",
       "    .dataframe thead th {\n",
       "        text-align: right;\n",
       "    }\n",
       "</style>\n",
       "<table border=\"1\" class=\"dataframe\">\n",
       "  <thead>\n",
       "    <tr style=\"text-align: right;\">\n",
       "      <th></th>\n",
       "      <th>Food</th>\n",
       "      <th>Calories</th>\n",
       "      <th>Fat</th>\n",
       "      <th>Sodium</th>\n",
       "      <th>Potassium</th>\n",
       "      <th>Carbohydrate</th>\n",
       "      <th>Protein</th>\n",
       "      <th>Vitamin A</th>\n",
       "      <th>Vitamin C</th>\n",
       "      <th>Calcium</th>\n",
       "      <th>Iron</th>\n",
       "      <th>Clusters</th>\n",
       "    </tr>\n",
       "  </thead>\n",
       "  <tbody>\n",
       "    <tr>\n",
       "      <th>0</th>\n",
       "      <td>Honeydew_Melon</td>\n",
       "      <td>36</td>\n",
       "      <td>0.14</td>\n",
       "      <td>18</td>\n",
       "      <td>228</td>\n",
       "      <td>9.00</td>\n",
       "      <td>0.54</td>\n",
       "      <td>34.00</td>\n",
       "      <td>18.0</td>\n",
       "      <td>6.0</td>\n",
       "      <td>0.17</td>\n",
       "      <td>0</td>\n",
       "    </tr>\n",
       "    <tr>\n",
       "      <th>1</th>\n",
       "      <td>Potato</td>\n",
       "      <td>77</td>\n",
       "      <td>0.09</td>\n",
       "      <td>6</td>\n",
       "      <td>421</td>\n",
       "      <td>17.00</td>\n",
       "      <td>2.00</td>\n",
       "      <td>1.34</td>\n",
       "      <td>19.7</td>\n",
       "      <td>12.0</td>\n",
       "      <td>0.78</td>\n",
       "      <td>0</td>\n",
       "    </tr>\n",
       "    <tr>\n",
       "      <th>2</th>\n",
       "      <td>Sweet Corn</td>\n",
       "      <td>86</td>\n",
       "      <td>1.18</td>\n",
       "      <td>15</td>\n",
       "      <td>270</td>\n",
       "      <td>19.00</td>\n",
       "      <td>3.20</td>\n",
       "      <td>0.00</td>\n",
       "      <td>6.8</td>\n",
       "      <td>2.0</td>\n",
       "      <td>0.52</td>\n",
       "      <td>0</td>\n",
       "    </tr>\n",
       "    <tr>\n",
       "      <th>3</th>\n",
       "      <td>Celery</td>\n",
       "      <td>16</td>\n",
       "      <td>0.17</td>\n",
       "      <td>80</td>\n",
       "      <td>260</td>\n",
       "      <td>2.79</td>\n",
       "      <td>0.69</td>\n",
       "      <td>0.00</td>\n",
       "      <td>3.1</td>\n",
       "      <td>40.0</td>\n",
       "      <td>0.20</td>\n",
       "      <td>0</td>\n",
       "    </tr>\n",
       "    <tr>\n",
       "      <th>4</th>\n",
       "      <td>Pomegranates</td>\n",
       "      <td>83</td>\n",
       "      <td>1.17</td>\n",
       "      <td>3</td>\n",
       "      <td>236</td>\n",
       "      <td>18.70</td>\n",
       "      <td>1.67</td>\n",
       "      <td>0.00</td>\n",
       "      <td>10.2</td>\n",
       "      <td>10.0</td>\n",
       "      <td>0.30</td>\n",
       "      <td>0</td>\n",
       "    </tr>\n",
       "  </tbody>\n",
       "</table>\n",
       "</div>"
      ],
      "text/plain": [
       "             Food  Calories   Fat  Sodium  Potassium  Carbohydrate  Protein  \\\n",
       "0  Honeydew_Melon        36  0.14      18        228          9.00     0.54   \n",
       "1          Potato        77  0.09       6        421         17.00     2.00   \n",
       "2      Sweet Corn        86  1.18      15        270         19.00     3.20   \n",
       "3          Celery        16  0.17      80        260          2.79     0.69   \n",
       "4    Pomegranates        83  1.17       3        236         18.70     1.67   \n",
       "\n",
       "   Vitamin A  Vitamin C  Calcium  Iron  Clusters  \n",
       "0      34.00       18.0      6.0  0.17         0  \n",
       "1       1.34       19.7     12.0  0.78         0  \n",
       "2       0.00        6.8      2.0  0.52         0  \n",
       "3       0.00        3.1     40.0  0.20         0  \n",
       "4       0.00       10.2     10.0  0.30         0  "
      ]
     },
     "execution_count": 105,
     "metadata": {},
     "output_type": "execute_result"
    }
   ],
   "source": [
    "df['Clusters'] = predict\n",
    "df.head()"
   ]
  },
  {
   "cell_type": "markdown",
   "metadata": {},
   "source": [
    "#### Visualization"
   ]
  },
  {
   "cell_type": "code",
   "execution_count": 106,
   "metadata": {},
   "outputs": [
    {
     "data": {
      "image/png": "[encoded data removed]",
      "text/plain": [
       "<Figure size 1080x360 with 1 Axes>"
      ]
     },
     "metadata": {
      "needs_background": "light"
     },
     "output_type": "display_data"
    }
   ],
   "source": [
    "plt.figure(figsize=(15,5))\n",
    "sns.scatterplot(df['Potassium'],df['Calories'])\n",
    "plt.title('Before Clustering')\n",
    "plt.show()"
   ]
  },
  {
   "cell_type": "code",
   "execution_count": 107,
   "metadata": {},
   "outputs": [
    {
     "data": {
      "image/png": "[encoded data removed]",
      "text/plain": [
       "<Figure size 1080x360 with 1 Axes>"
      ]
     },
     "metadata": {
      "needs_background": "light"
     },
     "output_type": "display_data"
    }
   ],
   "source": [
    "plt.figure(figsize=(15,5))\n",
    "sns.scatterplot(df['Potassium'],df['Calories'],hue=df['Clusters'])\n",
    "plt.title('After Clustering')\n",
    "plt.show()"
   ]
  },
  {
   "cell_type": "markdown",
   "metadata": {},
   "source": [
    "#### Inference"
   ]
  },
  {
   "cell_type": "code",
   "execution_count": 108,
   "metadata": {},
   "outputs": [
    {
     "data": {
      "text/plain": [
       "61"
      ]
     },
     "execution_count": 108,
     "metadata": {},
     "output_type": "execute_result"
    }
   ],
   "source": [
    "df['Food'].nunique()"
   ]
  },
  {
   "cell_type": "code",
   "execution_count": 109,
   "metadata": {},
   "outputs": [],
   "source": [
    "df.drop('Food',axis=1,inplace=True)"
   ]
  },
  {
   "cell_type": "code",
   "execution_count": 110,
   "metadata": {},
   "outputs": [
    {
     "data": {
      "text/html": [
       "<div>\n",
       "<style scoped>\n",
       "    .dataframe tbody tr th:only-of-type {\n",
       "        vertical-align: middle;\n",
       "    }\n",
       "\n",
       "    .dataframe tbody tr th {\n",
       "        vertical-align: top;\n",
       "    }\n",
       "\n",
       "    .dataframe thead th {\n",
       "        text-align: right;\n",
       "    }\n",
       "</style>\n",
       "<table border=\"1\" class=\"dataframe\">\n",
       "  <thead>\n",
       "    <tr style=\"text-align: right;\">\n",
       "      <th></th>\n",
       "      <th>Calories</th>\n",
       "      <th>Fat</th>\n",
       "      <th>Sodium</th>\n",
       "      <th>Potassium</th>\n",
       "      <th>Carbohydrate</th>\n",
       "      <th>Protein</th>\n",
       "      <th>Vitamin A</th>\n",
       "      <th>Vitamin C</th>\n",
       "      <th>Calcium</th>\n",
       "      <th>Iron</th>\n",
       "    </tr>\n",
       "    <tr>\n",
       "      <th>Clusters</th>\n",
       "      <th></th>\n",
       "      <th></th>\n",
       "      <th></th>\n",
       "      <th></th>\n",
       "      <th></th>\n",
       "      <th></th>\n",
       "      <th></th>\n",
       "      <th></th>\n",
       "      <th></th>\n",
       "      <th></th>\n",
       "    </tr>\n",
       "  </thead>\n",
       "  <tbody>\n",
       "    <tr>\n",
       "      <th>0</th>\n",
       "      <td>54.072727</td>\n",
       "      <td>0.463273</td>\n",
       "      <td>54.981818</td>\n",
       "      <td>256.218182</td>\n",
       "      <td>7.486</td>\n",
       "      <td>5.982909</td>\n",
       "      <td>7.641291</td>\n",
       "      <td>16.750909</td>\n",
       "      <td>24.185455</td>\n",
       "      <td>0.632909</td>\n",
       "    </tr>\n",
       "    <tr>\n",
       "      <th>1</th>\n",
       "      <td>142.333333</td>\n",
       "      <td>4.973333</td>\n",
       "      <td>67.500000</td>\n",
       "      <td>452.166667</td>\n",
       "      <td>0.000</td>\n",
       "      <td>22.640000</td>\n",
       "      <td>57.296667</td>\n",
       "      <td>1.100000</td>\n",
       "      <td>22.833333</td>\n",
       "      <td>0.833333</td>\n",
       "    </tr>\n",
       "  </tbody>\n",
       "</table>\n",
       "</div>"
      ],
      "text/plain": [
       "            Calories       Fat     Sodium   Potassium  Carbohydrate  \\\n",
       "Clusters                                                              \n",
       "0          54.072727  0.463273  54.981818  256.218182         7.486   \n",
       "1         142.333333  4.973333  67.500000  452.166667         0.000   \n",
       "\n",
       "            Protein  Vitamin A  Vitamin C    Calcium      Iron  \n",
       "Clusters                                                        \n",
       "0          5.982909   7.641291  16.750909  24.185455  0.632909  \n",
       "1         22.640000  57.296667   1.100000  22.833333  0.833333  "
      ]
     },
     "execution_count": 110,
     "metadata": {},
     "output_type": "execute_result"
    }
   ],
   "source": [
    "df.groupby('Clusters').agg('mean')"
   ]
  },
  {
   "cell_type": "markdown",
   "metadata": {},
   "source": [
    "Cluster 0: Large amount of Potassium is a part of this cluster and least is Fat.\n",
    "\n",
    "Cluster 1: Large amount of Calories is a part of this cluster and least is Carbohydrate."
   ]
  },
  {
   "cell_type": "code",
   "execution_count": null,
   "metadata": {},
   "outputs": [],
   "source": []
  }
 ],
 "metadata": {
  "kernelspec": {
   "display_name": "Python 3",
   "language": "python",
   "name": "python3"
  },
  "language_info": {
   "codemirror_mode": {
    "name": "ipython",
    "version": 3
   },
   "file_extension": ".py",
   "mimetype": "text/x-python",
   "name": "python",
   "nbconvert_exporter": "python",
   "pygments_lexer": "ipython3",
   "version": "3.7.6"
  }
 },
 "nbformat": 4,
 "nbformat_minor": 4
}
